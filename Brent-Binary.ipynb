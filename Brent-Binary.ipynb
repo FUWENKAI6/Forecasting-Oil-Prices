{
  "cells": [
    {
      "cell_type": "markdown",
      "source": [
        "# <center>Eco481 - Project\n",
        "\n",
        "# <center> Brent Oil - Binary"
      ],
      "metadata": {
        "id": "PXLP46iwh988"
      }
    },
    {
      "cell_type": "markdown",
      "metadata": {
        "id": "NCLckG4usm3r"
      },
      "source": [
        "## Import libraries"
      ]
    },
    {
      "cell_type": "code",
      "execution_count": null,
      "metadata": {
        "colab": {
          "base_uri": "https://localhost:8080/",
          "height": 350
        },
        "id": "7HXsV2Cy0EyK",
        "outputId": "758dc45d-a28a-4b84-937f-e6779392f666"
      },
      "outputs": [
        {
          "output_type": "error",
          "ename": "MessageError",
          "evalue": "ignored",
          "traceback": [
            "\u001b[0;31m---------------------------------------------------------------------------\u001b[0m",
            "\u001b[0;31mMessageError\u001b[0m                              Traceback (most recent call last)",
            "\u001b[0;32m<ipython-input-1-4996ee3d8d09>\u001b[0m in \u001b[0;36m<cell line: 2>\u001b[0;34m()\u001b[0m\n\u001b[1;32m      1\u001b[0m \u001b[0;32mfrom\u001b[0m \u001b[0mgoogle\u001b[0m\u001b[0;34m.\u001b[0m\u001b[0mcolab\u001b[0m \u001b[0;32mimport\u001b[0m \u001b[0mdrive\u001b[0m\u001b[0;34m\u001b[0m\u001b[0;34m\u001b[0m\u001b[0m\n\u001b[0;32m----> 2\u001b[0;31m \u001b[0mdrive\u001b[0m\u001b[0;34m.\u001b[0m\u001b[0mmount\u001b[0m\u001b[0;34m(\u001b[0m\u001b[0;34m'/content/gdrive'\u001b[0m\u001b[0;34m)\u001b[0m\u001b[0;34m\u001b[0m\u001b[0;34m\u001b[0m\u001b[0m\n\u001b[0m",
            "\u001b[0;32m/usr/local/lib/python3.10/dist-packages/google/colab/drive.py\u001b[0m in \u001b[0;36mmount\u001b[0;34m(mountpoint, force_remount, timeout_ms, readonly)\u001b[0m\n\u001b[1;32m    101\u001b[0m \u001b[0;32mdef\u001b[0m \u001b[0mmount\u001b[0m\u001b[0;34m(\u001b[0m\u001b[0mmountpoint\u001b[0m\u001b[0;34m,\u001b[0m \u001b[0mforce_remount\u001b[0m\u001b[0;34m=\u001b[0m\u001b[0;32mFalse\u001b[0m\u001b[0;34m,\u001b[0m \u001b[0mtimeout_ms\u001b[0m\u001b[0;34m=\u001b[0m\u001b[0;36m120000\u001b[0m\u001b[0;34m,\u001b[0m \u001b[0mreadonly\u001b[0m\u001b[0;34m=\u001b[0m\u001b[0;32mFalse\u001b[0m\u001b[0;34m)\u001b[0m\u001b[0;34m:\u001b[0m\u001b[0;34m\u001b[0m\u001b[0;34m\u001b[0m\u001b[0m\n\u001b[1;32m    102\u001b[0m   \u001b[0;34m\"\"\"Mount your Google Drive at the specified mountpoint path.\"\"\"\u001b[0m\u001b[0;34m\u001b[0m\u001b[0;34m\u001b[0m\u001b[0m\n\u001b[0;32m--> 103\u001b[0;31m   return _mount(\n\u001b[0m\u001b[1;32m    104\u001b[0m       \u001b[0mmountpoint\u001b[0m\u001b[0;34m,\u001b[0m\u001b[0;34m\u001b[0m\u001b[0;34m\u001b[0m\u001b[0m\n\u001b[1;32m    105\u001b[0m       \u001b[0mforce_remount\u001b[0m\u001b[0;34m=\u001b[0m\u001b[0mforce_remount\u001b[0m\u001b[0;34m,\u001b[0m\u001b[0;34m\u001b[0m\u001b[0;34m\u001b[0m\u001b[0m\n",
            "\u001b[0;32m/usr/local/lib/python3.10/dist-packages/google/colab/drive.py\u001b[0m in \u001b[0;36m_mount\u001b[0;34m(mountpoint, force_remount, timeout_ms, ephemeral, readonly)\u001b[0m\n\u001b[1;32m    130\u001b[0m   )\n\u001b[1;32m    131\u001b[0m   \u001b[0;32mif\u001b[0m \u001b[0mephemeral\u001b[0m\u001b[0;34m:\u001b[0m\u001b[0;34m\u001b[0m\u001b[0;34m\u001b[0m\u001b[0m\n\u001b[0;32m--> 132\u001b[0;31m     _message.blocking_request(\n\u001b[0m\u001b[1;32m    133\u001b[0m         \u001b[0;34m'request_auth'\u001b[0m\u001b[0;34m,\u001b[0m \u001b[0mrequest\u001b[0m\u001b[0;34m=\u001b[0m\u001b[0;34m{\u001b[0m\u001b[0;34m'authType'\u001b[0m\u001b[0;34m:\u001b[0m \u001b[0;34m'dfs_ephemeral'\u001b[0m\u001b[0;34m}\u001b[0m\u001b[0;34m,\u001b[0m \u001b[0mtimeout_sec\u001b[0m\u001b[0;34m=\u001b[0m\u001b[0;32mNone\u001b[0m\u001b[0;34m\u001b[0m\u001b[0;34m\u001b[0m\u001b[0m\n\u001b[1;32m    134\u001b[0m     )\n",
            "\u001b[0;32m/usr/local/lib/python3.10/dist-packages/google/colab/_message.py\u001b[0m in \u001b[0;36mblocking_request\u001b[0;34m(request_type, request, timeout_sec, parent)\u001b[0m\n\u001b[1;32m    174\u001b[0m       \u001b[0mrequest_type\u001b[0m\u001b[0;34m,\u001b[0m \u001b[0mrequest\u001b[0m\u001b[0;34m,\u001b[0m \u001b[0mparent\u001b[0m\u001b[0;34m=\u001b[0m\u001b[0mparent\u001b[0m\u001b[0;34m,\u001b[0m \u001b[0mexpect_reply\u001b[0m\u001b[0;34m=\u001b[0m\u001b[0;32mTrue\u001b[0m\u001b[0;34m\u001b[0m\u001b[0;34m\u001b[0m\u001b[0m\n\u001b[1;32m    175\u001b[0m   )\n\u001b[0;32m--> 176\u001b[0;31m   \u001b[0;32mreturn\u001b[0m \u001b[0mread_reply_from_input\u001b[0m\u001b[0;34m(\u001b[0m\u001b[0mrequest_id\u001b[0m\u001b[0;34m,\u001b[0m \u001b[0mtimeout_sec\u001b[0m\u001b[0;34m)\u001b[0m\u001b[0;34m\u001b[0m\u001b[0;34m\u001b[0m\u001b[0m\n\u001b[0m",
            "\u001b[0;32m/usr/local/lib/python3.10/dist-packages/google/colab/_message.py\u001b[0m in \u001b[0;36mread_reply_from_input\u001b[0;34m(message_id, timeout_sec)\u001b[0m\n\u001b[1;32m    101\u001b[0m     ):\n\u001b[1;32m    102\u001b[0m       \u001b[0;32mif\u001b[0m \u001b[0;34m'error'\u001b[0m \u001b[0;32min\u001b[0m \u001b[0mreply\u001b[0m\u001b[0;34m:\u001b[0m\u001b[0;34m\u001b[0m\u001b[0;34m\u001b[0m\u001b[0m\n\u001b[0;32m--> 103\u001b[0;31m         \u001b[0;32mraise\u001b[0m \u001b[0mMessageError\u001b[0m\u001b[0;34m(\u001b[0m\u001b[0mreply\u001b[0m\u001b[0;34m[\u001b[0m\u001b[0;34m'error'\u001b[0m\u001b[0;34m]\u001b[0m\u001b[0;34m)\u001b[0m\u001b[0;34m\u001b[0m\u001b[0;34m\u001b[0m\u001b[0m\n\u001b[0m\u001b[1;32m    104\u001b[0m       \u001b[0;32mreturn\u001b[0m \u001b[0mreply\u001b[0m\u001b[0;34m.\u001b[0m\u001b[0mget\u001b[0m\u001b[0;34m(\u001b[0m\u001b[0;34m'data'\u001b[0m\u001b[0;34m,\u001b[0m \u001b[0;32mNone\u001b[0m\u001b[0;34m)\u001b[0m\u001b[0;34m\u001b[0m\u001b[0;34m\u001b[0m\u001b[0m\n\u001b[1;32m    105\u001b[0m \u001b[0;34m\u001b[0m\u001b[0m\n",
            "\u001b[0;31mMessageError\u001b[0m: Error: credential propagation was unsuccessful"
          ]
        }
      ],
      "source": [
        "from google.colab import drive\n",
        "drive.mount('/content/gdrive')"
      ]
    },
    {
      "cell_type": "code",
      "execution_count": null,
      "metadata": {
        "id": "sTL7Uyr5dXwD"
      },
      "outputs": [],
      "source": [
        "import pandas as pd\n",
        "import numpy as np\n",
        "import matplotlib.pyplot as plt\n",
        "\n",
        "import datetime\n",
        "\n",
        "from sklearn.model_selection import train_test_split, cross_val_score, TimeSeriesSplit, GridSearchCV\n",
        "from sklearn.preprocessing import StandardScaler, LabelEncoder, OneHotEncoder,MinMaxScaler\n",
        "\n",
        "# Machine learning models\n",
        "from sklearn.dummy import DummyClassifier\n",
        "from sklearn.linear_model import LogisticRegression\n",
        "from sklearn.neighbors import KNeighborsClassifier\n",
        "from sklearn.naive_bayes import GaussianNB\n",
        "from sklearn.tree import DecisionTreeClassifier\n",
        "from sklearn.ensemble import RandomForestClassifier, GradientBoostingClassifier\n",
        "\n",
        "# Model evaluation\n",
        "from sklearn.metrics import mean_squared_error,accuracy_score,confusion_matrix, ConfusionMatrixDisplay\n",
        "\n",
        "import pickle"
      ]
    },
    {
      "cell_type": "markdown",
      "metadata": {
        "id": "3QnRL0Umsq17"
      },
      "source": [
        "## Read Target Dataset - WTI Crude Oil"
      ]
    },
    {
      "cell_type": "code",
      "execution_count": null,
      "metadata": {
        "id": "iFPimq6rnXvy"
      },
      "outputs": [],
      "source": [
        "df = pd.read_csv('/content/gdrive/MyDrive/ECO481-Final Project/dataset/Brent Oil Daily.csv')"
      ]
    },
    {
      "cell_type": "code",
      "execution_count": null,
      "metadata": {
        "id": "MZ1OST0xnXz7"
      },
      "outputs": [],
      "source": [
        "df['Date'] = pd.to_datetime(df['Date'])"
      ]
    },
    {
      "cell_type": "code",
      "execution_count": null,
      "metadata": {
        "id": "JC6qPvQ7nX2A"
      },
      "outputs": [],
      "source": [
        "df = df.sort_values(by='Date').reset_index(drop=True)"
      ]
    },
    {
      "cell_type": "markdown",
      "metadata": {
        "id": "QPFqR49QvMDu"
      },
      "source": [
        "## Feature Engineering\n",
        "\n",
        "https://medium.com/analytics-vidhya/stock-trend-prediction-with-technical-indicators-feature-engineering-and-python-code-1fa54d5806ba"
      ]
    },
    {
      "cell_type": "markdown",
      "metadata": {
        "id": "QNW8u1-wvO4l"
      },
      "source": [
        "### Lagged Price"
      ]
    },
    {
      "cell_type": "code",
      "execution_count": null,
      "metadata": {
        "id": "m6QESdLMnX6r"
      },
      "outputs": [],
      "source": [
        "df['lag_daily'] = df['Price'].shift(1)\n",
        "df['lag_weekly'] = df['Price'].shift(5)\n",
        "df['lag_biweekly'] = df['Price'].shift(10)\n",
        "df['lag_monthly'] = df['Price'].shift(20)"
      ]
    },
    {
      "cell_type": "markdown",
      "metadata": {
        "id": "FCEhl7Kl_PGS"
      },
      "source": [
        "### Price Difference"
      ]
    },
    {
      "cell_type": "code",
      "execution_count": null,
      "metadata": {
        "id": "dsSl2uZh_OB6"
      },
      "outputs": [],
      "source": [
        "df['diff_daily'] = df['Price'] - df['Price'].shift(1)\n",
        "df['diff_weekly'] = df['Price'] - df['Price'].shift(5)\n",
        "df['diff_biweekly'] = df['Price'] - df['Price'].shift(10)\n",
        "df['diff_monthly'] = df['Price'] - df['Price'].shift(20)"
      ]
    },
    {
      "cell_type": "markdown",
      "metadata": {
        "id": "VjmDxqlgvzAH"
      },
      "source": [
        "### Returns"
      ]
    },
    {
      "cell_type": "code",
      "execution_count": null,
      "metadata": {
        "id": "RgDSzl1_nYAR"
      },
      "outputs": [],
      "source": [
        "df['return_daily'] = round((df['Price'] - df['Price'].shift(1)) / df['Price'].shift(1) * 100, 2)\n",
        "df['return_weekly'] = round((df['Price'] - df['Price'].shift(5)) / df['Price'].shift(5) * 100, 2)\n",
        "df['return_biweekly'] = round((df['Price'] - df['Price'].shift(10)) / df['Price'].shift(10) * 100, 2)\n",
        "df['return_monthly'] = round((df['Price'] - df['Price'].shift(20)) / df['Price'].shift(20) * 100, 2)"
      ]
    },
    {
      "cell_type": "markdown",
      "metadata": {
        "id": "ZIWpuOKGwc7k"
      },
      "source": [
        "### Simple Moving Average"
      ]
    },
    {
      "cell_type": "code",
      "execution_count": null,
      "metadata": {
        "id": "2nFL34rTvfbj"
      },
      "outputs": [],
      "source": [
        "df['sma_daily'] = df['Price'].rolling(1).mean()\n",
        "df['sma_weekly'] = df['Price'].rolling(5).mean()\n",
        "df['sma_biweekly'] = df['Price'].rolling(10).mean()\n",
        "df['sma_monthly'] = df['Price'].rolling(20).mean()"
      ]
    },
    {
      "cell_type": "markdown",
      "metadata": {
        "id": "e-rHkH7Swunw"
      },
      "source": [
        "### Exponential Weighted Moving Average\n",
        "\n"
      ]
    },
    {
      "cell_type": "code",
      "execution_count": null,
      "metadata": {
        "id": "QsE4kvl_vfY8"
      },
      "outputs": [],
      "source": [
        "df['ewm_daily'] = df['Price'].ewm(span=1).mean()\n",
        "df['ewm_weekly'] = df['Price'].ewm(span=5).mean()\n",
        "df['ewm_biweekly'] = df['Price'].ewm(span=10).mean()\n",
        "df['ewm_monthly'] = df['Price'].ewm(span=20).mean()"
      ]
    },
    {
      "cell_type": "markdown",
      "metadata": {
        "id": "JAk7abIv1hxD"
      },
      "source": [
        "### Average True Range\n",
        "\n",
        "https://www.investopedia.com/terms/a/atr.asp"
      ]
    },
    {
      "cell_type": "code",
      "execution_count": null,
      "metadata": {
        "id": "1qGulQBIvfWe"
      },
      "outputs": [],
      "source": [
        "high_low = df['High'] - df['Low']\n",
        "high_close = np.abs(df['High'] - df['Price'].shift())\n",
        "low_close = np.abs(df['Low'] - df['Price'].shift())\n",
        "ranges = pd.concat([high_low, high_close, low_close], axis=1)\n",
        "true_range = np.max(ranges, axis=1)\n",
        "df['atr'] = true_range.rolling(14).sum()/14"
      ]
    },
    {
      "cell_type": "markdown",
      "metadata": {
        "id": "UIlITm3SABde"
      },
      "source": [
        "### Date-related Features"
      ]
    },
    {
      "cell_type": "code",
      "execution_count": null,
      "metadata": {
        "colab": {
          "base_uri": "https://localhost:8080/"
        },
        "id": "QCaxzYL3AA1O",
        "outputId": "cf2b252c-15e7-46f9-df1a-40d156fc494a"
      },
      "outputs": [
        {
          "output_type": "stream",
          "name": "stderr",
          "text": [
            "<ipython-input-12-fbfc8ac8aa8a>:7: FutureWarning: Series.dt.weekofyear and Series.dt.week have been deprecated. Please use Series.dt.isocalendar().week instead.\n",
            "  df['weekofyear'] = df['Date'].dt.weekofyear\n"
          ]
        }
      ],
      "source": [
        "df['dayofweek'] = df['Date'].dt.dayofweek\n",
        "df['quarter'] = df['Date'].dt.quarter\n",
        "df['month'] = df['Date'].dt.month\n",
        "df['year'] = df['Date'].dt.year\n",
        "df['dayofyear'] = df['Date'].dt.dayofyear\n",
        "df['dayofmonth'] = df['Date'].dt.day\n",
        "df['weekofyear'] = df['Date'].dt.weekofyear"
      ]
    },
    {
      "cell_type": "code",
      "execution_count": null,
      "metadata": {
        "colab": {
          "base_uri": "https://localhost:8080/"
        },
        "id": "0NCiVnPa2XTt",
        "outputId": "f932c75d-6da4-4ce9-bf1d-1cfbd8b37e4a"
      },
      "outputs": [
        {
          "output_type": "execute_result",
          "data": {
            "text/plain": [
              "2602"
            ]
          },
          "metadata": {},
          "execution_count": 13
        }
      ],
      "source": [
        "len(df)"
      ]
    },
    {
      "cell_type": "code",
      "execution_count": null,
      "metadata": {
        "colab": {
          "base_uri": "https://localhost:8080/"
        },
        "id": "pEBXUtP-2XRW",
        "outputId": "fdcb5767-977b-4f72-c3e9-48ac77ca78e0"
      },
      "outputs": [
        {
          "output_type": "execute_result",
          "data": {
            "text/plain": [
              "2577"
            ]
          },
          "metadata": {},
          "execution_count": 14
        }
      ],
      "source": [
        "len(df.dropna())"
      ]
    },
    {
      "cell_type": "markdown",
      "metadata": {
        "id": "5nI4hvecDC5V"
      },
      "source": [
        "## External Variables"
      ]
    },
    {
      "cell_type": "code",
      "execution_count": null,
      "metadata": {
        "id": "QGKvSZGKqBG3"
      },
      "outputs": [],
      "source": [
        "external_df = pd.read_excel('/content/gdrive/MyDrive/ECO481-Final Project/dataset updated 2/Final Dataset.xlsx',index_col=0)"
      ]
    },
    {
      "cell_type": "code",
      "execution_count": null,
      "metadata": {
        "colab": {
          "base_uri": "https://localhost:8080/",
          "height": 713
        },
        "id": "eMVLBgr4rLqH",
        "outputId": "f93cf921-6692-4a51-c43f-a8d979a14c18"
      },
      "outputs": [
        {
          "output_type": "execute_result",
          "data": {
            "text/plain": [
              "           Date  Brent_price  WTI_price Gold_price        GPR     Sp500  \\\n",
              "0    2013-02-01       116.76      97.77   1,670.60  81.590332  1,506.75   \n",
              "1    2013-02-04       115.60      96.17   1,676.40  81.590332  1,493.50   \n",
              "2    2013-02-05       116.52      96.64   1,673.50  81.590332  1,506.00   \n",
              "3    2013-02-06       116.73      96.62   1,678.80  81.590332  1,506.75   \n",
              "4    2013-02-07       117.24      95.83   1,671.30  81.590332  1,505.25   \n",
              "...         ...          ...        ...        ...        ...       ...   \n",
              "2595 2023-02-22        80.45      73.95   1,833.30        NaN  3,999.00   \n",
              "2596 2023-02-23        81.95      75.39   1,818.80        NaN  4,018.75   \n",
              "2597 2023-02-24        82.82      76.32   1,809.20        NaN  3,975.75   \n",
              "2598 2023-02-27        82.07      75.74   1,824.00        NaN  3,988.00   \n",
              "2599 2023-02-28        83.12      76.67   1,832.30        NaN  3,975.50   \n",
              "\n",
              "      USD_EUR   USD_CAD           TSX MSCI_index  ...    HDD   CDD  \\\n",
              "0      0.7326  1.003311  12768.799805   1,072.82  ...  738.0  10.0   \n",
              "1      0.7399  1.003210  12717.599609   1,072.73  ...  738.0  10.0   \n",
              "2      0.7365  1.002305  12745.700195   1,067.61  ...  738.0  10.0   \n",
              "3      0.7397  1.004601  12761.599609   1,063.75  ...  738.0  10.0   \n",
              "4      0.7464  1.004520  12755.900391   1,059.56  ...  738.0  10.0   \n",
              "...       ...       ...           ...        ...  ...    ...   ...   \n",
              "2595   0.9430  0.738831  20193.300781     982.06  ...    NaN   NaN   \n",
              "2596   0.9436  0.738258  20188.199219     987.74  ...    NaN   NaN   \n",
              "2597   0.9479  0.738378  20219.199219     971.87  ...    NaN   NaN   \n",
              "2598   0.9425  0.735635  20260.099609     967.25  ...    NaN   NaN   \n",
              "2599   0.9455  0.736703  20221.199219     964.01  ...    NaN   NaN   \n",
              "\n",
              "      Drought Index  Consumer Index  Nature gas price  \\\n",
              "0              -4.9            77.6             3.301   \n",
              "1              -4.9            77.6             3.315   \n",
              "2              -4.9            77.6             3.399   \n",
              "3              -4.9            77.6             3.418   \n",
              "4              -4.9            77.6             3.285   \n",
              "...             ...             ...               ...   \n",
              "2595            NaN             NaN             2.174   \n",
              "2596            NaN             NaN             2.314   \n",
              "2597            NaN             NaN             2.451   \n",
              "2598            NaN             NaN             2.731   \n",
              "2599            NaN             NaN             2.747   \n",
              "\n",
              "      OPEC Total Crude Oil Production  \\\n",
              "0                               29.29   \n",
              "1                               29.29   \n",
              "2                               29.29   \n",
              "3                               29.29   \n",
              "4                               29.29   \n",
              "...                               ...   \n",
              "2595                            28.42   \n",
              "2596                            28.42   \n",
              "2597                            28.42   \n",
              "2598                            28.42   \n",
              "2599                            28.42   \n",
              "\n",
              "      OPEC Total Crude Oil Production Capacity  Oil Inventory     US GDP  \\\n",
              "0                                        32.56        1039081  99.888699   \n",
              "1                                        32.56        1039081  99.888699   \n",
              "2                                        32.56        1039081  99.888699   \n",
              "3                                        32.56        1039081  99.888699   \n",
              "4                                        32.56        1039081  99.888699   \n",
              "...                                        ...            ...        ...   \n",
              "2595                                     31.64         850620        NaN   \n",
              "2596                                     31.64         850620        NaN   \n",
              "2597                                     31.64         851786        NaN   \n",
              "2598                                     31.64         851786        NaN   \n",
              "2599                                     31.64         851786        NaN   \n",
              "\n",
              "          CPI  \n",
              "0     232.166  \n",
              "1     232.166  \n",
              "2     232.166  \n",
              "3     232.166  \n",
              "4     232.166  \n",
              "...       ...  \n",
              "2595  300.840  \n",
              "2596  300.840  \n",
              "2597  300.840  \n",
              "2598  300.840  \n",
              "2599  300.840  \n",
              "\n",
              "[2600 rows x 21 columns]"
            ],
            "text/html": [
              "\n",
              "  <div id=\"df-3d3097f1-1027-4a47-aca6-51015a73f9ff\">\n",
              "    <div class=\"colab-df-container\">\n",
              "      <div>\n",
              "<style scoped>\n",
              "    .dataframe tbody tr th:only-of-type {\n",
              "        vertical-align: middle;\n",
              "    }\n",
              "\n",
              "    .dataframe tbody tr th {\n",
              "        vertical-align: top;\n",
              "    }\n",
              "\n",
              "    .dataframe thead th {\n",
              "        text-align: right;\n",
              "    }\n",
              "</style>\n",
              "<table border=\"1\" class=\"dataframe\">\n",
              "  <thead>\n",
              "    <tr style=\"text-align: right;\">\n",
              "      <th></th>\n",
              "      <th>Date</th>\n",
              "      <th>Brent_price</th>\n",
              "      <th>WTI_price</th>\n",
              "      <th>Gold_price</th>\n",
              "      <th>GPR</th>\n",
              "      <th>Sp500</th>\n",
              "      <th>USD_EUR</th>\n",
              "      <th>USD_CAD</th>\n",
              "      <th>TSX</th>\n",
              "      <th>MSCI_index</th>\n",
              "      <th>...</th>\n",
              "      <th>HDD</th>\n",
              "      <th>CDD</th>\n",
              "      <th>Drought Index</th>\n",
              "      <th>Consumer Index</th>\n",
              "      <th>Nature gas price</th>\n",
              "      <th>OPEC Total Crude Oil Production</th>\n",
              "      <th>OPEC Total Crude Oil Production Capacity</th>\n",
              "      <th>Oil Inventory</th>\n",
              "      <th>US GDP</th>\n",
              "      <th>CPI</th>\n",
              "    </tr>\n",
              "  </thead>\n",
              "  <tbody>\n",
              "    <tr>\n",
              "      <th>0</th>\n",
              "      <td>2013-02-01</td>\n",
              "      <td>116.76</td>\n",
              "      <td>97.77</td>\n",
              "      <td>1,670.60</td>\n",
              "      <td>81.590332</td>\n",
              "      <td>1,506.75</td>\n",
              "      <td>0.7326</td>\n",
              "      <td>1.003311</td>\n",
              "      <td>12768.799805</td>\n",
              "      <td>1,072.82</td>\n",
              "      <td>...</td>\n",
              "      <td>738.0</td>\n",
              "      <td>10.0</td>\n",
              "      <td>-4.9</td>\n",
              "      <td>77.6</td>\n",
              "      <td>3.301</td>\n",
              "      <td>29.29</td>\n",
              "      <td>32.56</td>\n",
              "      <td>1039081</td>\n",
              "      <td>99.888699</td>\n",
              "      <td>232.166</td>\n",
              "    </tr>\n",
              "    <tr>\n",
              "      <th>1</th>\n",
              "      <td>2013-02-04</td>\n",
              "      <td>115.60</td>\n",
              "      <td>96.17</td>\n",
              "      <td>1,676.40</td>\n",
              "      <td>81.590332</td>\n",
              "      <td>1,493.50</td>\n",
              "      <td>0.7399</td>\n",
              "      <td>1.003210</td>\n",
              "      <td>12717.599609</td>\n",
              "      <td>1,072.73</td>\n",
              "      <td>...</td>\n",
              "      <td>738.0</td>\n",
              "      <td>10.0</td>\n",
              "      <td>-4.9</td>\n",
              "      <td>77.6</td>\n",
              "      <td>3.315</td>\n",
              "      <td>29.29</td>\n",
              "      <td>32.56</td>\n",
              "      <td>1039081</td>\n",
              "      <td>99.888699</td>\n",
              "      <td>232.166</td>\n",
              "    </tr>\n",
              "    <tr>\n",
              "      <th>2</th>\n",
              "      <td>2013-02-05</td>\n",
              "      <td>116.52</td>\n",
              "      <td>96.64</td>\n",
              "      <td>1,673.50</td>\n",
              "      <td>81.590332</td>\n",
              "      <td>1,506.00</td>\n",
              "      <td>0.7365</td>\n",
              "      <td>1.002305</td>\n",
              "      <td>12745.700195</td>\n",
              "      <td>1,067.61</td>\n",
              "      <td>...</td>\n",
              "      <td>738.0</td>\n",
              "      <td>10.0</td>\n",
              "      <td>-4.9</td>\n",
              "      <td>77.6</td>\n",
              "      <td>3.399</td>\n",
              "      <td>29.29</td>\n",
              "      <td>32.56</td>\n",
              "      <td>1039081</td>\n",
              "      <td>99.888699</td>\n",
              "      <td>232.166</td>\n",
              "    </tr>\n",
              "    <tr>\n",
              "      <th>3</th>\n",
              "      <td>2013-02-06</td>\n",
              "      <td>116.73</td>\n",
              "      <td>96.62</td>\n",
              "      <td>1,678.80</td>\n",
              "      <td>81.590332</td>\n",
              "      <td>1,506.75</td>\n",
              "      <td>0.7397</td>\n",
              "      <td>1.004601</td>\n",
              "      <td>12761.599609</td>\n",
              "      <td>1,063.75</td>\n",
              "      <td>...</td>\n",
              "      <td>738.0</td>\n",
              "      <td>10.0</td>\n",
              "      <td>-4.9</td>\n",
              "      <td>77.6</td>\n",
              "      <td>3.418</td>\n",
              "      <td>29.29</td>\n",
              "      <td>32.56</td>\n",
              "      <td>1039081</td>\n",
              "      <td>99.888699</td>\n",
              "      <td>232.166</td>\n",
              "    </tr>\n",
              "    <tr>\n",
              "      <th>4</th>\n",
              "      <td>2013-02-07</td>\n",
              "      <td>117.24</td>\n",
              "      <td>95.83</td>\n",
              "      <td>1,671.30</td>\n",
              "      <td>81.590332</td>\n",
              "      <td>1,505.25</td>\n",
              "      <td>0.7464</td>\n",
              "      <td>1.004520</td>\n",
              "      <td>12755.900391</td>\n",
              "      <td>1,059.56</td>\n",
              "      <td>...</td>\n",
              "      <td>738.0</td>\n",
              "      <td>10.0</td>\n",
              "      <td>-4.9</td>\n",
              "      <td>77.6</td>\n",
              "      <td>3.285</td>\n",
              "      <td>29.29</td>\n",
              "      <td>32.56</td>\n",
              "      <td>1039081</td>\n",
              "      <td>99.888699</td>\n",
              "      <td>232.166</td>\n",
              "    </tr>\n",
              "    <tr>\n",
              "      <th>...</th>\n",
              "      <td>...</td>\n",
              "      <td>...</td>\n",
              "      <td>...</td>\n",
              "      <td>...</td>\n",
              "      <td>...</td>\n",
              "      <td>...</td>\n",
              "      <td>...</td>\n",
              "      <td>...</td>\n",
              "      <td>...</td>\n",
              "      <td>...</td>\n",
              "      <td>...</td>\n",
              "      <td>...</td>\n",
              "      <td>...</td>\n",
              "      <td>...</td>\n",
              "      <td>...</td>\n",
              "      <td>...</td>\n",
              "      <td>...</td>\n",
              "      <td>...</td>\n",
              "      <td>...</td>\n",
              "      <td>...</td>\n",
              "      <td>...</td>\n",
              "    </tr>\n",
              "    <tr>\n",
              "      <th>2595</th>\n",
              "      <td>2023-02-22</td>\n",
              "      <td>80.45</td>\n",
              "      <td>73.95</td>\n",
              "      <td>1,833.30</td>\n",
              "      <td>NaN</td>\n",
              "      <td>3,999.00</td>\n",
              "      <td>0.9430</td>\n",
              "      <td>0.738831</td>\n",
              "      <td>20193.300781</td>\n",
              "      <td>982.06</td>\n",
              "      <td>...</td>\n",
              "      <td>NaN</td>\n",
              "      <td>NaN</td>\n",
              "      <td>NaN</td>\n",
              "      <td>NaN</td>\n",
              "      <td>2.174</td>\n",
              "      <td>28.42</td>\n",
              "      <td>31.64</td>\n",
              "      <td>850620</td>\n",
              "      <td>NaN</td>\n",
              "      <td>300.840</td>\n",
              "    </tr>\n",
              "    <tr>\n",
              "      <th>2596</th>\n",
              "      <td>2023-02-23</td>\n",
              "      <td>81.95</td>\n",
              "      <td>75.39</td>\n",
              "      <td>1,818.80</td>\n",
              "      <td>NaN</td>\n",
              "      <td>4,018.75</td>\n",
              "      <td>0.9436</td>\n",
              "      <td>0.738258</td>\n",
              "      <td>20188.199219</td>\n",
              "      <td>987.74</td>\n",
              "      <td>...</td>\n",
              "      <td>NaN</td>\n",
              "      <td>NaN</td>\n",
              "      <td>NaN</td>\n",
              "      <td>NaN</td>\n",
              "      <td>2.314</td>\n",
              "      <td>28.42</td>\n",
              "      <td>31.64</td>\n",
              "      <td>850620</td>\n",
              "      <td>NaN</td>\n",
              "      <td>300.840</td>\n",
              "    </tr>\n",
              "    <tr>\n",
              "      <th>2597</th>\n",
              "      <td>2023-02-24</td>\n",
              "      <td>82.82</td>\n",
              "      <td>76.32</td>\n",
              "      <td>1,809.20</td>\n",
              "      <td>NaN</td>\n",
              "      <td>3,975.75</td>\n",
              "      <td>0.9479</td>\n",
              "      <td>0.738378</td>\n",
              "      <td>20219.199219</td>\n",
              "      <td>971.87</td>\n",
              "      <td>...</td>\n",
              "      <td>NaN</td>\n",
              "      <td>NaN</td>\n",
              "      <td>NaN</td>\n",
              "      <td>NaN</td>\n",
              "      <td>2.451</td>\n",
              "      <td>28.42</td>\n",
              "      <td>31.64</td>\n",
              "      <td>851786</td>\n",
              "      <td>NaN</td>\n",
              "      <td>300.840</td>\n",
              "    </tr>\n",
              "    <tr>\n",
              "      <th>2598</th>\n",
              "      <td>2023-02-27</td>\n",
              "      <td>82.07</td>\n",
              "      <td>75.74</td>\n",
              "      <td>1,824.00</td>\n",
              "      <td>NaN</td>\n",
              "      <td>3,988.00</td>\n",
              "      <td>0.9425</td>\n",
              "      <td>0.735635</td>\n",
              "      <td>20260.099609</td>\n",
              "      <td>967.25</td>\n",
              "      <td>...</td>\n",
              "      <td>NaN</td>\n",
              "      <td>NaN</td>\n",
              "      <td>NaN</td>\n",
              "      <td>NaN</td>\n",
              "      <td>2.731</td>\n",
              "      <td>28.42</td>\n",
              "      <td>31.64</td>\n",
              "      <td>851786</td>\n",
              "      <td>NaN</td>\n",
              "      <td>300.840</td>\n",
              "    </tr>\n",
              "    <tr>\n",
              "      <th>2599</th>\n",
              "      <td>2023-02-28</td>\n",
              "      <td>83.12</td>\n",
              "      <td>76.67</td>\n",
              "      <td>1,832.30</td>\n",
              "      <td>NaN</td>\n",
              "      <td>3,975.50</td>\n",
              "      <td>0.9455</td>\n",
              "      <td>0.736703</td>\n",
              "      <td>20221.199219</td>\n",
              "      <td>964.01</td>\n",
              "      <td>...</td>\n",
              "      <td>NaN</td>\n",
              "      <td>NaN</td>\n",
              "      <td>NaN</td>\n",
              "      <td>NaN</td>\n",
              "      <td>2.747</td>\n",
              "      <td>28.42</td>\n",
              "      <td>31.64</td>\n",
              "      <td>851786</td>\n",
              "      <td>NaN</td>\n",
              "      <td>300.840</td>\n",
              "    </tr>\n",
              "  </tbody>\n",
              "</table>\n",
              "<p>2600 rows × 21 columns</p>\n",
              "</div>\n",
              "      <button class=\"colab-df-convert\" onclick=\"convertToInteractive('df-3d3097f1-1027-4a47-aca6-51015a73f9ff')\"\n",
              "              title=\"Convert this dataframe to an interactive table.\"\n",
              "              style=\"display:none;\">\n",
              "        \n",
              "  <svg xmlns=\"http://www.w3.org/2000/svg\" height=\"24px\"viewBox=\"0 0 24 24\"\n",
              "       width=\"24px\">\n",
              "    <path d=\"M0 0h24v24H0V0z\" fill=\"none\"/>\n",
              "    <path d=\"M18.56 5.44l.94 2.06.94-2.06 2.06-.94-2.06-.94-.94-2.06-.94 2.06-2.06.94zm-11 1L8.5 8.5l.94-2.06 2.06-.94-2.06-.94L8.5 2.5l-.94 2.06-2.06.94zm10 10l.94 2.06.94-2.06 2.06-.94-2.06-.94-.94-2.06-.94 2.06-2.06.94z\"/><path d=\"M17.41 7.96l-1.37-1.37c-.4-.4-.92-.59-1.43-.59-.52 0-1.04.2-1.43.59L10.3 9.45l-7.72 7.72c-.78.78-.78 2.05 0 2.83L4 21.41c.39.39.9.59 1.41.59.51 0 1.02-.2 1.41-.59l7.78-7.78 2.81-2.81c.8-.78.8-2.07 0-2.86zM5.41 20L4 18.59l7.72-7.72 1.47 1.35L5.41 20z\"/>\n",
              "  </svg>\n",
              "      </button>\n",
              "      \n",
              "  <style>\n",
              "    .colab-df-container {\n",
              "      display:flex;\n",
              "      flex-wrap:wrap;\n",
              "      gap: 12px;\n",
              "    }\n",
              "\n",
              "    .colab-df-convert {\n",
              "      background-color: #E8F0FE;\n",
              "      border: none;\n",
              "      border-radius: 50%;\n",
              "      cursor: pointer;\n",
              "      display: none;\n",
              "      fill: #1967D2;\n",
              "      height: 32px;\n",
              "      padding: 0 0 0 0;\n",
              "      width: 32px;\n",
              "    }\n",
              "\n",
              "    .colab-df-convert:hover {\n",
              "      background-color: #E2EBFA;\n",
              "      box-shadow: 0px 1px 2px rgba(60, 64, 67, 0.3), 0px 1px 3px 1px rgba(60, 64, 67, 0.15);\n",
              "      fill: #174EA6;\n",
              "    }\n",
              "\n",
              "    [theme=dark] .colab-df-convert {\n",
              "      background-color: #3B4455;\n",
              "      fill: #D2E3FC;\n",
              "    }\n",
              "\n",
              "    [theme=dark] .colab-df-convert:hover {\n",
              "      background-color: #434B5C;\n",
              "      box-shadow: 0px 1px 3px 1px rgba(0, 0, 0, 0.15);\n",
              "      filter: drop-shadow(0px 1px 2px rgba(0, 0, 0, 0.3));\n",
              "      fill: #FFFFFF;\n",
              "    }\n",
              "  </style>\n",
              "\n",
              "      <script>\n",
              "        const buttonEl =\n",
              "          document.querySelector('#df-3d3097f1-1027-4a47-aca6-51015a73f9ff button.colab-df-convert');\n",
              "        buttonEl.style.display =\n",
              "          google.colab.kernel.accessAllowed ? 'block' : 'none';\n",
              "\n",
              "        async function convertToInteractive(key) {\n",
              "          const element = document.querySelector('#df-3d3097f1-1027-4a47-aca6-51015a73f9ff');\n",
              "          const dataTable =\n",
              "            await google.colab.kernel.invokeFunction('convertToInteractive',\n",
              "                                                     [key], {});\n",
              "          if (!dataTable) return;\n",
              "\n",
              "          const docLinkHtml = 'Like what you see? Visit the ' +\n",
              "            '<a target=\"_blank\" href=https://colab.research.google.com/notebooks/data_table.ipynb>data table notebook</a>'\n",
              "            + ' to learn more about interactive tables.';\n",
              "          element.innerHTML = '';\n",
              "          dataTable['output_type'] = 'display_data';\n",
              "          await google.colab.output.renderOutput(dataTable, element);\n",
              "          const docLink = document.createElement('div');\n",
              "          docLink.innerHTML = docLinkHtml;\n",
              "          element.appendChild(docLink);\n",
              "        }\n",
              "      </script>\n",
              "    </div>\n",
              "  </div>\n",
              "  "
            ]
          },
          "metadata": {},
          "execution_count": 16
        }
      ],
      "source": [
        "external_df['Date']=pd.to_datetime(external_df['Date'])\n",
        "external_df.set_index('Date')\n",
        "external_df"
      ]
    },
    {
      "cell_type": "markdown",
      "metadata": {
        "id": "ky1haYSFadIX"
      },
      "source": [
        "## Data Preprocessing"
      ]
    },
    {
      "cell_type": "markdown",
      "metadata": {
        "id": "D4MV8dj0C-3S"
      },
      "source": [
        "### Merge Data"
      ]
    },
    {
      "cell_type": "code",
      "execution_count": null,
      "metadata": {
        "id": "nRUhlT2glUrm"
      },
      "outputs": [],
      "source": [
        "# join engineered features with external features\n",
        "# drop useless columns and NaNs\n",
        "#external_df['Date']=external_df.index\n",
        "finaldf = pd.merge(df, external_df, on=\"Date\", how=\"left\")\n",
        "finaldf = finaldf.set_index('Date')\n",
        "finaldf = finaldf.drop(['Open','High','Low','Vol.','Change %'], axis=1)"
      ]
    },
    {
      "cell_type": "code",
      "execution_count": null,
      "metadata": {
        "colab": {
          "base_uri": "https://localhost:8080/"
        },
        "id": "MKRIPK2eSmuS",
        "outputId": "73b9dc06-07f9-467b-87f0-bae34a07a74a"
      },
      "outputs": [
        {
          "output_type": "stream",
          "name": "stderr",
          "text": [
            "<ipython-input-18-f6ee964b9360>:1: FutureWarning: Dropping of nuisance columns in rolling operations is deprecated; in a future version this will raise TypeError. Select only valid columns before calling the operation. Dropped columns were Index(['Gold_price', 'MSCI_index', 'Sp500'], dtype='object')\n",
            "  finaldf['binaryTarget'] = finaldf.rolling(5).apply(lambda x: int(x.iloc[4] > x.iloc[0]))[\"Price\"]\n"
          ]
        }
      ],
      "source": [
        "finaldf['binaryTarget'] = finaldf.rolling(5).apply(lambda x: int(x.iloc[4] > x.iloc[0]))[\"Price\"]"
      ]
    },
    {
      "cell_type": "code",
      "execution_count": null,
      "metadata": {
        "id": "r3f_Qg-ZSxc6"
      },
      "outputs": [],
      "source": [
        "finaldf['binaryTarget'] = finaldf['binaryTarget'].shift(-5).astype('Int64')"
      ]
    },
    {
      "cell_type": "code",
      "execution_count": null,
      "metadata": {
        "id": "uPDNa7gw794G"
      },
      "outputs": [],
      "source": [
        "finaldf.drop('Price',inplace=True,axis=1)"
      ]
    },
    {
      "cell_type": "code",
      "execution_count": null,
      "metadata": {
        "id": "utMpWudV-l_D"
      },
      "outputs": [],
      "source": [
        "finaldf.drop('Brent_price',inplace=True,axis=1)"
      ]
    },
    {
      "cell_type": "code",
      "execution_count": null,
      "metadata": {
        "id": "2ISvnbp677F9"
      },
      "outputs": [],
      "source": [
        "finaldf.dropna(inplace=True)"
      ]
    },
    {
      "cell_type": "code",
      "execution_count": null,
      "metadata": {
        "colab": {
          "base_uri": "https://localhost:8080/",
          "height": 745
        },
        "id": "IjCcEx2hUUMm",
        "outputId": "5e4d7163-35cc-4eb7-d267-58dd987638a3"
      },
      "outputs": [
        {
          "output_type": "execute_result",
          "data": {
            "text/plain": [
              "            lag_daily  lag_weekly  lag_biweekly  lag_monthly  diff_daily  \\\n",
              "Date                                                                       \n",
              "2013-03-01     111.38      114.10        117.66       116.76       -0.98   \n",
              "2013-03-04     110.40      114.44        117.38       115.60       -0.31   \n",
              "2013-03-05     110.09      112.71        117.52       116.52        1.52   \n",
              "2013-03-06     111.61      111.87        115.60       116.73       -0.55   \n",
              "2013-03-07     111.06      111.38        113.53       117.24        0.09   \n",
              "...               ...         ...           ...          ...         ...   \n",
              "2022-10-26      91.74       90.56         92.45        89.32        3.95   \n",
              "2022-10-27      95.69       90.45         94.57        88.49        1.27   \n",
              "2022-10-28      96.96       91.34         90.15        87.96       -1.19   \n",
              "2022-10-31      95.77       91.21         90.18        88.86       -0.94   \n",
              "2022-11-01      94.83       91.74         88.60        91.80       -0.18   \n",
              "\n",
              "            diff_weekly  diff_biweekly  diff_monthly  return_daily  \\\n",
              "Date                                                                 \n",
              "2013-03-01        -3.70          -7.26         -6.36         -0.88   \n",
              "2013-03-04        -4.35          -7.29         -5.51         -0.28   \n",
              "2013-03-05        -1.10          -5.91         -4.91          1.38   \n",
              "2013-03-06        -0.81          -4.54         -5.67         -0.49   \n",
              "2013-03-07        -0.23          -2.38         -6.09          0.08   \n",
              "...                 ...            ...           ...           ...   \n",
              "2022-10-26         5.13           3.24          6.37          4.31   \n",
              "2022-10-27         6.51           2.39          8.47          1.33   \n",
              "2022-10-28         4.43           5.62          7.81         -1.23   \n",
              "2022-10-31         3.62           4.65          5.97         -0.98   \n",
              "2022-11-01         2.91           6.05          2.85         -0.19   \n",
              "\n",
              "            return_weekly  ...   CDD  Drought Index  Consumer Index  \\\n",
              "Date                       ...                                        \n",
              "2013-03-01          -3.24  ...  10.0          -5.18            78.6   \n",
              "2013-03-04          -3.80  ...  10.0          -5.18            78.6   \n",
              "2013-03-05          -0.98  ...  10.0          -5.18            78.6   \n",
              "2013-03-06          -0.72  ...  10.0          -5.18            78.6   \n",
              "2013-03-07          -0.21  ...  10.0          -5.18            78.6   \n",
              "...                   ...  ...   ...            ...             ...   \n",
              "2022-10-26           5.66  ...  51.0          -3.63            59.9   \n",
              "2022-10-27           7.20  ...  51.0          -3.63            59.9   \n",
              "2022-10-28           4.85  ...  51.0          -3.63            59.9   \n",
              "2022-10-31           3.97  ...  51.0          -3.63            59.9   \n",
              "2022-11-01           3.17  ...  20.0          -3.38            56.8   \n",
              "\n",
              "            Nature gas price  OPEC Total Crude Oil Production  \\\n",
              "Date                                                            \n",
              "2013-03-01             3.456                            29.45   \n",
              "2013-03-04             3.529                            29.45   \n",
              "2013-03-05             3.529                            29.45   \n",
              "2013-03-06             3.470                            29.45   \n",
              "2013-03-07             3.582                            29.45   \n",
              "...                      ...                              ...   \n",
              "2022-10-26             5.606                            29.20   \n",
              "2022-10-27             5.186                            29.20   \n",
              "2022-10-28             5.684                            29.20   \n",
              "2022-10-31             6.355                            29.20   \n",
              "2022-11-01             5.714                            28.73   \n",
              "\n",
              "            OPEC Total Crude Oil Production Capacity  Oil Inventory  \\\n",
              "Date                                                                  \n",
              "2013-03-01                                     32.72      1048812.0   \n",
              "2013-03-04                                     32.72      1048812.0   \n",
              "2013-03-05                                     32.72      1048812.0   \n",
              "2013-03-06                                     32.72      1048812.0   \n",
              "2013-03-07                                     32.72      1048812.0   \n",
              "...                                              ...            ...   \n",
              "2022-10-26                                     31.23       841663.0   \n",
              "2022-10-27                                     31.23       841663.0   \n",
              "2022-10-28                                     31.23       836622.0   \n",
              "2022-10-31                                     31.23       836622.0   \n",
              "2022-11-01                                     31.12       836622.0   \n",
              "\n",
              "                US GDP      CPI  binaryTarget  \n",
              "Date                                           \n",
              "2013-03-01   99.887151  232.773             1  \n",
              "2013-03-04   99.887151  232.773             0  \n",
              "2013-03-05   99.887151  232.773             0  \n",
              "2013-03-06   99.887151  232.773             0  \n",
              "2013-03-07   99.887151  232.773             0  \n",
              "...                ...      ...           ...  \n",
              "2022-10-26   99.930849  298.012             0  \n",
              "2022-10-27   99.930849  298.012             0  \n",
              "2022-10-28   99.930849  298.012             1  \n",
              "2022-10-31   99.930849  298.012             1  \n",
              "2022-11-01  100.003976  297.711             0  \n",
              "\n",
              "[2422 rows x 48 columns]"
            ],
            "text/html": [
              "\n",
              "  <div id=\"df-c054eb5f-b1ea-4236-9731-a727cd5c371a\">\n",
              "    <div class=\"colab-df-container\">\n",
              "      <div>\n",
              "<style scoped>\n",
              "    .dataframe tbody tr th:only-of-type {\n",
              "        vertical-align: middle;\n",
              "    }\n",
              "\n",
              "    .dataframe tbody tr th {\n",
              "        vertical-align: top;\n",
              "    }\n",
              "\n",
              "    .dataframe thead th {\n",
              "        text-align: right;\n",
              "    }\n",
              "</style>\n",
              "<table border=\"1\" class=\"dataframe\">\n",
              "  <thead>\n",
              "    <tr style=\"text-align: right;\">\n",
              "      <th></th>\n",
              "      <th>lag_daily</th>\n",
              "      <th>lag_weekly</th>\n",
              "      <th>lag_biweekly</th>\n",
              "      <th>lag_monthly</th>\n",
              "      <th>diff_daily</th>\n",
              "      <th>diff_weekly</th>\n",
              "      <th>diff_biweekly</th>\n",
              "      <th>diff_monthly</th>\n",
              "      <th>return_daily</th>\n",
              "      <th>return_weekly</th>\n",
              "      <th>...</th>\n",
              "      <th>CDD</th>\n",
              "      <th>Drought Index</th>\n",
              "      <th>Consumer Index</th>\n",
              "      <th>Nature gas price</th>\n",
              "      <th>OPEC Total Crude Oil Production</th>\n",
              "      <th>OPEC Total Crude Oil Production Capacity</th>\n",
              "      <th>Oil Inventory</th>\n",
              "      <th>US GDP</th>\n",
              "      <th>CPI</th>\n",
              "      <th>binaryTarget</th>\n",
              "    </tr>\n",
              "    <tr>\n",
              "      <th>Date</th>\n",
              "      <th></th>\n",
              "      <th></th>\n",
              "      <th></th>\n",
              "      <th></th>\n",
              "      <th></th>\n",
              "      <th></th>\n",
              "      <th></th>\n",
              "      <th></th>\n",
              "      <th></th>\n",
              "      <th></th>\n",
              "      <th></th>\n",
              "      <th></th>\n",
              "      <th></th>\n",
              "      <th></th>\n",
              "      <th></th>\n",
              "      <th></th>\n",
              "      <th></th>\n",
              "      <th></th>\n",
              "      <th></th>\n",
              "      <th></th>\n",
              "      <th></th>\n",
              "    </tr>\n",
              "  </thead>\n",
              "  <tbody>\n",
              "    <tr>\n",
              "      <th>2013-03-01</th>\n",
              "      <td>111.38</td>\n",
              "      <td>114.10</td>\n",
              "      <td>117.66</td>\n",
              "      <td>116.76</td>\n",
              "      <td>-0.98</td>\n",
              "      <td>-3.70</td>\n",
              "      <td>-7.26</td>\n",
              "      <td>-6.36</td>\n",
              "      <td>-0.88</td>\n",
              "      <td>-3.24</td>\n",
              "      <td>...</td>\n",
              "      <td>10.0</td>\n",
              "      <td>-5.18</td>\n",
              "      <td>78.6</td>\n",
              "      <td>3.456</td>\n",
              "      <td>29.45</td>\n",
              "      <td>32.72</td>\n",
              "      <td>1048812.0</td>\n",
              "      <td>99.887151</td>\n",
              "      <td>232.773</td>\n",
              "      <td>1</td>\n",
              "    </tr>\n",
              "    <tr>\n",
              "      <th>2013-03-04</th>\n",
              "      <td>110.40</td>\n",
              "      <td>114.44</td>\n",
              "      <td>117.38</td>\n",
              "      <td>115.60</td>\n",
              "      <td>-0.31</td>\n",
              "      <td>-4.35</td>\n",
              "      <td>-7.29</td>\n",
              "      <td>-5.51</td>\n",
              "      <td>-0.28</td>\n",
              "      <td>-3.80</td>\n",
              "      <td>...</td>\n",
              "      <td>10.0</td>\n",
              "      <td>-5.18</td>\n",
              "      <td>78.6</td>\n",
              "      <td>3.529</td>\n",
              "      <td>29.45</td>\n",
              "      <td>32.72</td>\n",
              "      <td>1048812.0</td>\n",
              "      <td>99.887151</td>\n",
              "      <td>232.773</td>\n",
              "      <td>0</td>\n",
              "    </tr>\n",
              "    <tr>\n",
              "      <th>2013-03-05</th>\n",
              "      <td>110.09</td>\n",
              "      <td>112.71</td>\n",
              "      <td>117.52</td>\n",
              "      <td>116.52</td>\n",
              "      <td>1.52</td>\n",
              "      <td>-1.10</td>\n",
              "      <td>-5.91</td>\n",
              "      <td>-4.91</td>\n",
              "      <td>1.38</td>\n",
              "      <td>-0.98</td>\n",
              "      <td>...</td>\n",
              "      <td>10.0</td>\n",
              "      <td>-5.18</td>\n",
              "      <td>78.6</td>\n",
              "      <td>3.529</td>\n",
              "      <td>29.45</td>\n",
              "      <td>32.72</td>\n",
              "      <td>1048812.0</td>\n",
              "      <td>99.887151</td>\n",
              "      <td>232.773</td>\n",
              "      <td>0</td>\n",
              "    </tr>\n",
              "    <tr>\n",
              "      <th>2013-03-06</th>\n",
              "      <td>111.61</td>\n",
              "      <td>111.87</td>\n",
              "      <td>115.60</td>\n",
              "      <td>116.73</td>\n",
              "      <td>-0.55</td>\n",
              "      <td>-0.81</td>\n",
              "      <td>-4.54</td>\n",
              "      <td>-5.67</td>\n",
              "      <td>-0.49</td>\n",
              "      <td>-0.72</td>\n",
              "      <td>...</td>\n",
              "      <td>10.0</td>\n",
              "      <td>-5.18</td>\n",
              "      <td>78.6</td>\n",
              "      <td>3.470</td>\n",
              "      <td>29.45</td>\n",
              "      <td>32.72</td>\n",
              "      <td>1048812.0</td>\n",
              "      <td>99.887151</td>\n",
              "      <td>232.773</td>\n",
              "      <td>0</td>\n",
              "    </tr>\n",
              "    <tr>\n",
              "      <th>2013-03-07</th>\n",
              "      <td>111.06</td>\n",
              "      <td>111.38</td>\n",
              "      <td>113.53</td>\n",
              "      <td>117.24</td>\n",
              "      <td>0.09</td>\n",
              "      <td>-0.23</td>\n",
              "      <td>-2.38</td>\n",
              "      <td>-6.09</td>\n",
              "      <td>0.08</td>\n",
              "      <td>-0.21</td>\n",
              "      <td>...</td>\n",
              "      <td>10.0</td>\n",
              "      <td>-5.18</td>\n",
              "      <td>78.6</td>\n",
              "      <td>3.582</td>\n",
              "      <td>29.45</td>\n",
              "      <td>32.72</td>\n",
              "      <td>1048812.0</td>\n",
              "      <td>99.887151</td>\n",
              "      <td>232.773</td>\n",
              "      <td>0</td>\n",
              "    </tr>\n",
              "    <tr>\n",
              "      <th>...</th>\n",
              "      <td>...</td>\n",
              "      <td>...</td>\n",
              "      <td>...</td>\n",
              "      <td>...</td>\n",
              "      <td>...</td>\n",
              "      <td>...</td>\n",
              "      <td>...</td>\n",
              "      <td>...</td>\n",
              "      <td>...</td>\n",
              "      <td>...</td>\n",
              "      <td>...</td>\n",
              "      <td>...</td>\n",
              "      <td>...</td>\n",
              "      <td>...</td>\n",
              "      <td>...</td>\n",
              "      <td>...</td>\n",
              "      <td>...</td>\n",
              "      <td>...</td>\n",
              "      <td>...</td>\n",
              "      <td>...</td>\n",
              "      <td>...</td>\n",
              "    </tr>\n",
              "    <tr>\n",
              "      <th>2022-10-26</th>\n",
              "      <td>91.74</td>\n",
              "      <td>90.56</td>\n",
              "      <td>92.45</td>\n",
              "      <td>89.32</td>\n",
              "      <td>3.95</td>\n",
              "      <td>5.13</td>\n",
              "      <td>3.24</td>\n",
              "      <td>6.37</td>\n",
              "      <td>4.31</td>\n",
              "      <td>5.66</td>\n",
              "      <td>...</td>\n",
              "      <td>51.0</td>\n",
              "      <td>-3.63</td>\n",
              "      <td>59.9</td>\n",
              "      <td>5.606</td>\n",
              "      <td>29.20</td>\n",
              "      <td>31.23</td>\n",
              "      <td>841663.0</td>\n",
              "      <td>99.930849</td>\n",
              "      <td>298.012</td>\n",
              "      <td>0</td>\n",
              "    </tr>\n",
              "    <tr>\n",
              "      <th>2022-10-27</th>\n",
              "      <td>95.69</td>\n",
              "      <td>90.45</td>\n",
              "      <td>94.57</td>\n",
              "      <td>88.49</td>\n",
              "      <td>1.27</td>\n",
              "      <td>6.51</td>\n",
              "      <td>2.39</td>\n",
              "      <td>8.47</td>\n",
              "      <td>1.33</td>\n",
              "      <td>7.20</td>\n",
              "      <td>...</td>\n",
              "      <td>51.0</td>\n",
              "      <td>-3.63</td>\n",
              "      <td>59.9</td>\n",
              "      <td>5.186</td>\n",
              "      <td>29.20</td>\n",
              "      <td>31.23</td>\n",
              "      <td>841663.0</td>\n",
              "      <td>99.930849</td>\n",
              "      <td>298.012</td>\n",
              "      <td>0</td>\n",
              "    </tr>\n",
              "    <tr>\n",
              "      <th>2022-10-28</th>\n",
              "      <td>96.96</td>\n",
              "      <td>91.34</td>\n",
              "      <td>90.15</td>\n",
              "      <td>87.96</td>\n",
              "      <td>-1.19</td>\n",
              "      <td>4.43</td>\n",
              "      <td>5.62</td>\n",
              "      <td>7.81</td>\n",
              "      <td>-1.23</td>\n",
              "      <td>4.85</td>\n",
              "      <td>...</td>\n",
              "      <td>51.0</td>\n",
              "      <td>-3.63</td>\n",
              "      <td>59.9</td>\n",
              "      <td>5.684</td>\n",
              "      <td>29.20</td>\n",
              "      <td>31.23</td>\n",
              "      <td>836622.0</td>\n",
              "      <td>99.930849</td>\n",
              "      <td>298.012</td>\n",
              "      <td>1</td>\n",
              "    </tr>\n",
              "    <tr>\n",
              "      <th>2022-10-31</th>\n",
              "      <td>95.77</td>\n",
              "      <td>91.21</td>\n",
              "      <td>90.18</td>\n",
              "      <td>88.86</td>\n",
              "      <td>-0.94</td>\n",
              "      <td>3.62</td>\n",
              "      <td>4.65</td>\n",
              "      <td>5.97</td>\n",
              "      <td>-0.98</td>\n",
              "      <td>3.97</td>\n",
              "      <td>...</td>\n",
              "      <td>51.0</td>\n",
              "      <td>-3.63</td>\n",
              "      <td>59.9</td>\n",
              "      <td>6.355</td>\n",
              "      <td>29.20</td>\n",
              "      <td>31.23</td>\n",
              "      <td>836622.0</td>\n",
              "      <td>99.930849</td>\n",
              "      <td>298.012</td>\n",
              "      <td>1</td>\n",
              "    </tr>\n",
              "    <tr>\n",
              "      <th>2022-11-01</th>\n",
              "      <td>94.83</td>\n",
              "      <td>91.74</td>\n",
              "      <td>88.60</td>\n",
              "      <td>91.80</td>\n",
              "      <td>-0.18</td>\n",
              "      <td>2.91</td>\n",
              "      <td>6.05</td>\n",
              "      <td>2.85</td>\n",
              "      <td>-0.19</td>\n",
              "      <td>3.17</td>\n",
              "      <td>...</td>\n",
              "      <td>20.0</td>\n",
              "      <td>-3.38</td>\n",
              "      <td>56.8</td>\n",
              "      <td>5.714</td>\n",
              "      <td>28.73</td>\n",
              "      <td>31.12</td>\n",
              "      <td>836622.0</td>\n",
              "      <td>100.003976</td>\n",
              "      <td>297.711</td>\n",
              "      <td>0</td>\n",
              "    </tr>\n",
              "  </tbody>\n",
              "</table>\n",
              "<p>2422 rows × 48 columns</p>\n",
              "</div>\n",
              "      <button class=\"colab-df-convert\" onclick=\"convertToInteractive('df-c054eb5f-b1ea-4236-9731-a727cd5c371a')\"\n",
              "              title=\"Convert this dataframe to an interactive table.\"\n",
              "              style=\"display:none;\">\n",
              "        \n",
              "  <svg xmlns=\"http://www.w3.org/2000/svg\" height=\"24px\"viewBox=\"0 0 24 24\"\n",
              "       width=\"24px\">\n",
              "    <path d=\"M0 0h24v24H0V0z\" fill=\"none\"/>\n",
              "    <path d=\"M18.56 5.44l.94 2.06.94-2.06 2.06-.94-2.06-.94-.94-2.06-.94 2.06-2.06.94zm-11 1L8.5 8.5l.94-2.06 2.06-.94-2.06-.94L8.5 2.5l-.94 2.06-2.06.94zm10 10l.94 2.06.94-2.06 2.06-.94-2.06-.94-.94-2.06-.94 2.06-2.06.94z\"/><path d=\"M17.41 7.96l-1.37-1.37c-.4-.4-.92-.59-1.43-.59-.52 0-1.04.2-1.43.59L10.3 9.45l-7.72 7.72c-.78.78-.78 2.05 0 2.83L4 21.41c.39.39.9.59 1.41.59.51 0 1.02-.2 1.41-.59l7.78-7.78 2.81-2.81c.8-.78.8-2.07 0-2.86zM5.41 20L4 18.59l7.72-7.72 1.47 1.35L5.41 20z\"/>\n",
              "  </svg>\n",
              "      </button>\n",
              "      \n",
              "  <style>\n",
              "    .colab-df-container {\n",
              "      display:flex;\n",
              "      flex-wrap:wrap;\n",
              "      gap: 12px;\n",
              "    }\n",
              "\n",
              "    .colab-df-convert {\n",
              "      background-color: #E8F0FE;\n",
              "      border: none;\n",
              "      border-radius: 50%;\n",
              "      cursor: pointer;\n",
              "      display: none;\n",
              "      fill: #1967D2;\n",
              "      height: 32px;\n",
              "      padding: 0 0 0 0;\n",
              "      width: 32px;\n",
              "    }\n",
              "\n",
              "    .colab-df-convert:hover {\n",
              "      background-color: #E2EBFA;\n",
              "      box-shadow: 0px 1px 2px rgba(60, 64, 67, 0.3), 0px 1px 3px 1px rgba(60, 64, 67, 0.15);\n",
              "      fill: #174EA6;\n",
              "    }\n",
              "\n",
              "    [theme=dark] .colab-df-convert {\n",
              "      background-color: #3B4455;\n",
              "      fill: #D2E3FC;\n",
              "    }\n",
              "\n",
              "    [theme=dark] .colab-df-convert:hover {\n",
              "      background-color: #434B5C;\n",
              "      box-shadow: 0px 1px 3px 1px rgba(0, 0, 0, 0.15);\n",
              "      filter: drop-shadow(0px 1px 2px rgba(0, 0, 0, 0.3));\n",
              "      fill: #FFFFFF;\n",
              "    }\n",
              "  </style>\n",
              "\n",
              "      <script>\n",
              "        const buttonEl =\n",
              "          document.querySelector('#df-c054eb5f-b1ea-4236-9731-a727cd5c371a button.colab-df-convert');\n",
              "        buttonEl.style.display =\n",
              "          google.colab.kernel.accessAllowed ? 'block' : 'none';\n",
              "\n",
              "        async function convertToInteractive(key) {\n",
              "          const element = document.querySelector('#df-c054eb5f-b1ea-4236-9731-a727cd5c371a');\n",
              "          const dataTable =\n",
              "            await google.colab.kernel.invokeFunction('convertToInteractive',\n",
              "                                                     [key], {});\n",
              "          if (!dataTable) return;\n",
              "\n",
              "          const docLinkHtml = 'Like what you see? Visit the ' +\n",
              "            '<a target=\"_blank\" href=https://colab.research.google.com/notebooks/data_table.ipynb>data table notebook</a>'\n",
              "            + ' to learn more about interactive tables.';\n",
              "          element.innerHTML = '';\n",
              "          dataTable['output_type'] = 'display_data';\n",
              "          await google.colab.output.renderOutput(dataTable, element);\n",
              "          const docLink = document.createElement('div');\n",
              "          docLink.innerHTML = docLinkHtml;\n",
              "          element.appendChild(docLink);\n",
              "        }\n",
              "      </script>\n",
              "    </div>\n",
              "  </div>\n",
              "  "
            ]
          },
          "metadata": {},
          "execution_count": 23
        }
      ],
      "source": [
        "finaldf"
      ]
    },
    {
      "cell_type": "markdown",
      "metadata": {
        "id": "uFCofkCOSup3"
      },
      "source": [
        "### Check Data Types"
      ]
    },
    {
      "cell_type": "code",
      "execution_count": null,
      "metadata": {
        "colab": {
          "base_uri": "https://localhost:8080/"
        },
        "id": "WjpInVzCSup4",
        "outputId": "aa41c1a7-88a8-4466-b237-d7f19c7deaef"
      },
      "outputs": [
        {
          "output_type": "execute_result",
          "data": {
            "text/plain": [
              "dtype('O')"
            ]
          },
          "metadata": {},
          "execution_count": 24
        }
      ],
      "source": [
        "# check OBJECT data type\n",
        "finaldf['Gold_price'].dtypes"
      ]
    },
    {
      "cell_type": "code",
      "execution_count": null,
      "metadata": {
        "colab": {
          "base_uri": "https://localhost:8080/"
        },
        "id": "yi7SZ0jSSup4",
        "outputId": "735d32f9-4a72-4710-c53c-100075803250"
      },
      "outputs": [
        {
          "output_type": "execute_result",
          "data": {
            "text/plain": [
              "dtype('O')"
            ]
          },
          "metadata": {},
          "execution_count": 25
        }
      ],
      "source": [
        "# check OBJECT data type\n",
        "finaldf['MSCI_index'].dtypes"
      ]
    },
    {
      "cell_type": "code",
      "execution_count": null,
      "metadata": {
        "colab": {
          "base_uri": "https://localhost:8080/"
        },
        "id": "xkuVuviFSup4",
        "outputId": "fac514a9-0ce9-435e-be42-69ae56ed1205"
      },
      "outputs": [
        {
          "output_type": "execute_result",
          "data": {
            "text/plain": [
              "dtype('O')"
            ]
          },
          "metadata": {},
          "execution_count": 26
        }
      ],
      "source": [
        "# check OBJECT data type\n",
        "finaldf['Sp500'].dtypes"
      ]
    },
    {
      "cell_type": "code",
      "execution_count": null,
      "metadata": {
        "id": "WME6u2rhSup4"
      },
      "outputs": [],
      "source": [
        "finaldf['Gold_price'] = finaldf['Gold_price'].apply(lambda x: float(x.replace(',','')))\n",
        "finaldf['MSCI_index'] = finaldf['MSCI_index'].apply(lambda x: float(x.replace(',','')))\n",
        "finaldf['Sp500'] = finaldf['Sp500'].apply(lambda x: float(x.replace(',','')))"
      ]
    },
    {
      "cell_type": "code",
      "execution_count": null,
      "metadata": {
        "colab": {
          "base_uri": "https://localhost:8080/"
        },
        "id": "p15BDOtJSup4",
        "outputId": "8a04d223-d300-482c-a0d1-15e9af502d49"
      },
      "outputs": [
        {
          "output_type": "stream",
          "name": "stdout",
          "text": [
            "<class 'pandas.core.frame.DataFrame'>\n",
            "DatetimeIndex: 2422 entries, 2013-03-01 to 2022-11-01\n",
            "Data columns (total 48 columns):\n",
            " #   Column                                    Non-Null Count  Dtype  \n",
            "---  ------                                    --------------  -----  \n",
            " 0   lag_daily                                 2422 non-null   float64\n",
            " 1   lag_weekly                                2422 non-null   float64\n",
            " 2   lag_biweekly                              2422 non-null   float64\n",
            " 3   lag_monthly                               2422 non-null   float64\n",
            " 4   diff_daily                                2422 non-null   float64\n",
            " 5   diff_weekly                               2422 non-null   float64\n",
            " 6   diff_biweekly                             2422 non-null   float64\n",
            " 7   diff_monthly                              2422 non-null   float64\n",
            " 8   return_daily                              2422 non-null   float64\n",
            " 9   return_weekly                             2422 non-null   float64\n",
            " 10  return_biweekly                           2422 non-null   float64\n",
            " 11  return_monthly                            2422 non-null   float64\n",
            " 12  sma_daily                                 2422 non-null   float64\n",
            " 13  sma_weekly                                2422 non-null   float64\n",
            " 14  sma_biweekly                              2422 non-null   float64\n",
            " 15  sma_monthly                               2422 non-null   float64\n",
            " 16  ewm_daily                                 2422 non-null   float64\n",
            " 17  ewm_weekly                                2422 non-null   float64\n",
            " 18  ewm_biweekly                              2422 non-null   float64\n",
            " 19  ewm_monthly                               2422 non-null   float64\n",
            " 20  atr                                       2422 non-null   float64\n",
            " 21  dayofweek                                 2422 non-null   int64  \n",
            " 22  quarter                                   2422 non-null   int64  \n",
            " 23  month                                     2422 non-null   int64  \n",
            " 24  year                                      2422 non-null   int64  \n",
            " 25  dayofyear                                 2422 non-null   int64  \n",
            " 26  dayofmonth                                2422 non-null   int64  \n",
            " 27  weekofyear                                2422 non-null   int64  \n",
            " 28  WTI_price                                 2422 non-null   float64\n",
            " 29  Gold_price                                2422 non-null   float64\n",
            " 30  GPR                                       2422 non-null   float64\n",
            " 31  Sp500                                     2422 non-null   float64\n",
            " 32  USD_EUR                                   2422 non-null   float64\n",
            " 33  USD_CAD                                   2422 non-null   float64\n",
            " 34  TSX                                       2422 non-null   float64\n",
            " 35  MSCI_index                                2422 non-null   float64\n",
            " 36  Temperature                               2422 non-null   float64\n",
            " 37  HDD                                       2422 non-null   float64\n",
            " 38  CDD                                       2422 non-null   float64\n",
            " 39  Drought Index                             2422 non-null   float64\n",
            " 40  Consumer Index                            2422 non-null   float64\n",
            " 41  Nature gas price                          2422 non-null   float64\n",
            " 42  OPEC Total Crude Oil Production           2422 non-null   float64\n",
            " 43  OPEC Total Crude Oil Production Capacity  2422 non-null   float64\n",
            " 44  Oil Inventory                             2422 non-null   float64\n",
            " 45  US GDP                                    2422 non-null   float64\n",
            " 46  CPI                                       2422 non-null   float64\n",
            " 47  binaryTarget                              2422 non-null   Int64  \n",
            "dtypes: Int64(1), float64(40), int64(7)\n",
            "memory usage: 929.5 KB\n"
          ]
        }
      ],
      "source": [
        "finaldf.info()"
      ]
    },
    {
      "cell_type": "markdown",
      "metadata": {
        "id": "eh4b-T3PcUvx"
      },
      "source": [
        "### Train test split"
      ]
    },
    {
      "cell_type": "code",
      "execution_count": null,
      "metadata": {
        "id": "xK8GKjqOfwy5"
      },
      "outputs": [],
      "source": [
        "idx = 1695"
      ]
    },
    {
      "cell_type": "code",
      "execution_count": null,
      "metadata": {
        "id": "HhDcEJBr2XIS"
      },
      "outputs": [],
      "source": [
        "# split training and test data based a index\n",
        "X_train = finaldf.drop(columns = [\"binaryTarget\"]).iloc[:idx]\n",
        "X_test = finaldf.drop(columns = [\"binaryTarget\"]).iloc[idx: ]\n",
        "\n",
        "y_train = finaldf[\"binaryTarget\"].iloc[:idx]\n",
        "y_test = finaldf[\"binaryTarget\"].iloc[idx: ]"
      ]
    },
    {
      "cell_type": "markdown",
      "metadata": {
        "id": "pr5JIMR-hKxu"
      },
      "source": [
        "### Scaling"
      ]
    },
    {
      "cell_type": "code",
      "execution_count": null,
      "metadata": {
        "id": "U28ATHJshKKm"
      },
      "outputs": [],
      "source": [
        "scaler = StandardScaler()\n",
        "X_train_scaled = scaler.fit_transform(X_train)\n",
        "X_test_scaled = scaler.transform(X_test)"
      ]
    },
    {
      "cell_type": "markdown",
      "metadata": {
        "id": "HLB5rQloh9nI"
      },
      "source": [
        "## Model Implementation"
      ]
    },
    {
      "cell_type": "markdown",
      "metadata": {
        "id": "dHmhqpLLirgA"
      },
      "source": [
        "### Time Series CV"
      ]
    },
    {
      "cell_type": "code",
      "execution_count": null,
      "metadata": {
        "id": "0UiPilTTiq3A"
      },
      "outputs": [],
      "source": [
        "ts_cr_val = TimeSeriesSplit()"
      ]
    },
    {
      "cell_type": "code",
      "execution_count": null,
      "metadata": {
        "id": "vyCC1r2XnRsD"
      },
      "outputs": [],
      "source": [
        "def make_predictions(model):\n",
        "  model.fit(X_train_scaled, y_train)\n",
        "  print(\"The Training Accuracy is:\",accuracy_score(model.predict(X_train_scaled),y_train),'\\n')\n",
        "  model_predictions = model.predict(X_test_scaled)\n",
        "  print('The Test Accuracy is:',accuracy_score(y_test,model_predictions))\n",
        "  return model_predictions,accuracy_score(model.predict(X_train_scaled),y_train),accuracy_score(y_test,model_predictions)"
      ]
    },
    {
      "cell_type": "code",
      "execution_count": null,
      "metadata": {
        "id": "zGpkCzMxlluA"
      },
      "outputs": [],
      "source": [
        "# create a funtion to draw graphs\n",
        "def plot_comparison(predictions, targets,title):\n",
        "  # plt.figure(figsize=(4,4))\n",
        "  cm = confusion_matrix(targets, predictions)\n",
        "  disp = ConfusionMatrixDisplay(confusion_matrix=cm)\n",
        "  disp.plot()\n",
        "  plt.title(title)\n",
        "  plt.show()"
      ]
    },
    {
      "cell_type": "markdown",
      "metadata": {
        "id": "7yOsBEtkm62c"
      },
      "source": [
        "### 1. Dummy Classifier\n",
        "\n",
        "This regressor is used to set up a benchmark or baseline for this regression analysis"
      ]
    },
    {
      "cell_type": "code",
      "execution_count": null,
      "metadata": {
        "colab": {
          "base_uri": "https://localhost:8080/"
        },
        "id": "YeAR7fUzm58h",
        "outputId": "6376b411-b5a5-4dfe-b024-b4ec4a9d68ce"
      },
      "outputs": [
        {
          "output_type": "stream",
          "name": "stdout",
          "text": [
            "The Training Accuracy is: 0.5026548672566372 \n",
            "\n",
            "The Test Accuracy is: 0.5708390646492435\n"
          ]
        }
      ],
      "source": [
        "dm_predictions, dm_train_acc, dm_test_acc = make_predictions(DummyClassifier())"
      ]
    },
    {
      "cell_type": "code",
      "execution_count": null,
      "metadata": {
        "colab": {
          "base_uri": "https://localhost:8080/",
          "height": 472
        },
        "id": "jiMcaWInm56m",
        "outputId": "e852c9b6-eade-48e8-f11c-8672a92d7944"
      },
      "outputs": [
        {
          "output_type": "display_data",
          "data": {
            "text/plain": [
              "<Figure size 640x480 with 2 Axes>"
            ],
            "image/png": "[encoded data removed]"
          },
          "metadata": {}
        }
      ],
      "source": [
        "plot_comparison(dm_predictions,y_test,'Dummy Classifier')"
      ]
    },
    {
      "cell_type": "markdown",
      "metadata": {
        "id": "dLaTuJ4ZXoo_"
      },
      "source": [
        "### 2. Logistic Regression"
      ]
    },
    {
      "cell_type": "code",
      "execution_count": null,
      "metadata": {
        "colab": {
          "base_uri": "https://localhost:8080/",
          "height": 118
        },
        "id": "RxgQMyCkXp1q",
        "outputId": "5062e4a3-b61a-4d91-cec8-219ff38b2e80"
      },
      "outputs": [
        {
          "output_type": "execute_result",
          "data": {
            "text/plain": [
              "GridSearchCV(cv=TimeSeriesSplit(gap=0, max_train_size=None, n_splits=5, test_size=None),\n",
              "             estimator=LogisticRegression(), n_jobs=-1,\n",
              "             param_grid={'C': [0.1, 0.01, 0.005, 0.001, 0.0001],\n",
              "                         'solver': ['lbfgs', 'liblinear', 'newton-cg', 'sag',\n",
              "                                    'saga']},\n",
              "             scoring='accuracy')"
            ],
            "text/html": [
              "<style>#sk-container-id-1 {color: black;background-color: white;}#sk-container-id-1 pre{padding: 0;}#sk-container-id-1 div.sk-toggleable {background-color: white;}#sk-container-id-1 label.sk-toggleable__label {cursor: pointer;display: block;width: 100%;margin-bottom: 0;padding: 0.3em;box-sizing: border-box;text-align: center;}#sk-container-id-1 label.sk-toggleable__label-arrow:before {content: \"▸\";float: left;margin-right: 0.25em;color: #696969;}#sk-container-id-1 label.sk-toggleable__label-arrow:hover:before {color: black;}#sk-container-id-1 div.sk-estimator:hover label.sk-toggleable__label-arrow:before {color: black;}#sk-container-id-1 div.sk-toggleable__content {max-height: 0;max-width: 0;overflow: hidden;text-align: left;background-color: #f0f8ff;}#sk-container-id-1 div.sk-toggleable__content pre {margin: 0.2em;color: black;border-radius: 0.25em;background-color: #f0f8ff;}#sk-container-id-1 input.sk-toggleable__control:checked~div.sk-toggleable__content {max-height: 200px;max-width: 100%;overflow: auto;}#sk-container-id-1 input.sk-toggleable__control:checked~label.sk-toggleable__label-arrow:before {content: \"▾\";}#sk-container-id-1 div.sk-estimator input.sk-toggleable__control:checked~label.sk-toggleable__label {background-color: #d4ebff;}#sk-container-id-1 div.sk-label input.sk-toggleable__control:checked~label.sk-toggleable__label {background-color: #d4ebff;}#sk-container-id-1 input.sk-hidden--visually {border: 0;clip: rect(1px 1px 1px 1px);clip: rect(1px, 1px, 1px, 1px);height: 1px;margin: -1px;overflow: hidden;padding: 0;position: absolute;width: 1px;}#sk-container-id-1 div.sk-estimator {font-family: monospace;background-color: #f0f8ff;border: 1px dotted black;border-radius: 0.25em;box-sizing: border-box;margin-bottom: 0.5em;}#sk-container-id-1 div.sk-estimator:hover {background-color: #d4ebff;}#sk-container-id-1 div.sk-parallel-item::after {content: \"\";width: 100%;border-bottom: 1px solid gray;flex-grow: 1;}#sk-container-id-1 div.sk-label:hover label.sk-toggleable__label {background-color: #d4ebff;}#sk-container-id-1 div.sk-serial::before {content: \"\";position: absolute;border-left: 1px solid gray;box-sizing: border-box;top: 0;bottom: 0;left: 50%;z-index: 0;}#sk-container-id-1 div.sk-serial {display: flex;flex-direction: column;align-items: center;background-color: white;padding-right: 0.2em;padding-left: 0.2em;position: relative;}#sk-container-id-1 div.sk-item {position: relative;z-index: 1;}#sk-container-id-1 div.sk-parallel {display: flex;align-items: stretch;justify-content: center;background-color: white;position: relative;}#sk-container-id-1 div.sk-item::before, #sk-container-id-1 div.sk-parallel-item::before {content: \"\";position: absolute;border-left: 1px solid gray;box-sizing: border-box;top: 0;bottom: 0;left: 50%;z-index: -1;}#sk-container-id-1 div.sk-parallel-item {display: flex;flex-direction: column;z-index: 1;position: relative;background-color: white;}#sk-container-id-1 div.sk-parallel-item:first-child::after {align-self: flex-end;width: 50%;}#sk-container-id-1 div.sk-parallel-item:last-child::after {align-self: flex-start;width: 50%;}#sk-container-id-1 div.sk-parallel-item:only-child::after {width: 0;}#sk-container-id-1 div.sk-dashed-wrapped {border: 1px dashed gray;margin: 0 0.4em 0.5em 0.4em;box-sizing: border-box;padding-bottom: 0.4em;background-color: white;}#sk-container-id-1 div.sk-label label {font-family: monospace;font-weight: bold;display: inline-block;line-height: 1.2em;}#sk-container-id-1 div.sk-label-container {text-align: center;}#sk-container-id-1 div.sk-container {/* jupyter's `normalize.less` sets `[hidden] { display: none; }` but bootstrap.min.css set `[hidden] { display: none !important; }` so we also need the `!important` here to be able to override the default hidden behavior on the sphinx rendered scikit-learn.org. See: https://github.com/scikit-learn/scikit-learn/issues/21755 */display: inline-block !important;position: relative;}#sk-container-id-1 div.sk-text-repr-fallback {display: none;}</style><div id=\"sk-container-id-1\" class=\"sk-top-container\"><div class=\"sk-text-repr-fallback\"><pre>GridSearchCV(cv=TimeSeriesSplit(gap=0, max_train_size=None, n_splits=5, test_size=None),\n",
              "             estimator=LogisticRegression(), n_jobs=-1,\n",
              "             param_grid={&#x27;C&#x27;: [0.1, 0.01, 0.005, 0.001, 0.0001],\n",
              "                         &#x27;solver&#x27;: [&#x27;lbfgs&#x27;, &#x27;liblinear&#x27;, &#x27;newton-cg&#x27;, &#x27;sag&#x27;,\n",
              "                                    &#x27;saga&#x27;]},\n",
              "             scoring=&#x27;accuracy&#x27;)</pre><b>In a Jupyter environment, please rerun this cell to show the HTML representation or trust the notebook. <br />On GitHub, the HTML representation is unable to render, please try loading this page with nbviewer.org.</b></div><div class=\"sk-container\" hidden><div class=\"sk-item sk-dashed-wrapped\"><div class=\"sk-label-container\"><div class=\"sk-label sk-toggleable\"><input class=\"sk-toggleable__control sk-hidden--visually\" id=\"sk-estimator-id-1\" type=\"checkbox\" ><label for=\"sk-estimator-id-1\" class=\"sk-toggleable__label sk-toggleable__label-arrow\">GridSearchCV</label><div class=\"sk-toggleable__content\"><pre>GridSearchCV(cv=TimeSeriesSplit(gap=0, max_train_size=None, n_splits=5, test_size=None),\n",
              "             estimator=LogisticRegression(), n_jobs=-1,\n",
              "             param_grid={&#x27;C&#x27;: [0.1, 0.01, 0.005, 0.001, 0.0001],\n",
              "                         &#x27;solver&#x27;: [&#x27;lbfgs&#x27;, &#x27;liblinear&#x27;, &#x27;newton-cg&#x27;, &#x27;sag&#x27;,\n",
              "                                    &#x27;saga&#x27;]},\n",
              "             scoring=&#x27;accuracy&#x27;)</pre></div></div></div><div class=\"sk-parallel\"><div class=\"sk-parallel-item\"><div class=\"sk-item\"><div class=\"sk-label-container\"><div class=\"sk-label sk-toggleable\"><input class=\"sk-toggleable__control sk-hidden--visually\" id=\"sk-estimator-id-2\" type=\"checkbox\" ><label for=\"sk-estimator-id-2\" class=\"sk-toggleable__label sk-toggleable__label-arrow\">estimator: LogisticRegression</label><div class=\"sk-toggleable__content\"><pre>LogisticRegression()</pre></div></div></div><div class=\"sk-serial\"><div class=\"sk-item\"><div class=\"sk-estimator sk-toggleable\"><input class=\"sk-toggleable__control sk-hidden--visually\" id=\"sk-estimator-id-3\" type=\"checkbox\" ><label for=\"sk-estimator-id-3\" class=\"sk-toggleable__label sk-toggleable__label-arrow\">LogisticRegression</label><div class=\"sk-toggleable__content\"><pre>LogisticRegression()</pre></div></div></div></div></div></div></div></div></div></div>"
            ]
          },
          "metadata": {},
          "execution_count": 37
        }
      ],
      "source": [
        "lr = LogisticRegression()\n",
        "param_search = {\"solver\":[\"lbfgs\",\"liblinear\",'newton-cg','sag','saga'],\n",
        "                'C':[0.1, 0.01,0.005,0.001,0.0001]}\n",
        "\n",
        "lr_gsearch = GridSearchCV(estimator=lr, cv=ts_cr_val, scoring='accuracy',param_grid=param_search,n_jobs=-1)\n",
        "lr_gsearch.fit(X_train_scaled, y_train)"
      ]
    },
    {
      "cell_type": "code",
      "execution_count": null,
      "metadata": {
        "colab": {
          "base_uri": "https://localhost:8080/",
          "height": 75
        },
        "id": "bgAWO6SsbEhN",
        "outputId": "f7fa7d60-cbd4-41e6-e2e1-4d2eddaf8867"
      },
      "outputs": [
        {
          "output_type": "execute_result",
          "data": {
            "text/plain": [
              "LogisticRegression(C=0.0001, solver='liblinear')"
            ],
            "text/html": [
              "<style>#sk-container-id-2 {color: black;background-color: white;}#sk-container-id-2 pre{padding: 0;}#sk-container-id-2 div.sk-toggleable {background-color: white;}#sk-container-id-2 label.sk-toggleable__label {cursor: pointer;display: block;width: 100%;margin-bottom: 0;padding: 0.3em;box-sizing: border-box;text-align: center;}#sk-container-id-2 label.sk-toggleable__label-arrow:before {content: \"▸\";float: left;margin-right: 0.25em;color: #696969;}#sk-container-id-2 label.sk-toggleable__label-arrow:hover:before {color: black;}#sk-container-id-2 div.sk-estimator:hover label.sk-toggleable__label-arrow:before {color: black;}#sk-container-id-2 div.sk-toggleable__content {max-height: 0;max-width: 0;overflow: hidden;text-align: left;background-color: #f0f8ff;}#sk-container-id-2 div.sk-toggleable__content pre {margin: 0.2em;color: black;border-radius: 0.25em;background-color: #f0f8ff;}#sk-container-id-2 input.sk-toggleable__control:checked~div.sk-toggleable__content {max-height: 200px;max-width: 100%;overflow: auto;}#sk-container-id-2 input.sk-toggleable__control:checked~label.sk-toggleable__label-arrow:before {content: \"▾\";}#sk-container-id-2 div.sk-estimator input.sk-toggleable__control:checked~label.sk-toggleable__label {background-color: #d4ebff;}#sk-container-id-2 div.sk-label input.sk-toggleable__control:checked~label.sk-toggleable__label {background-color: #d4ebff;}#sk-container-id-2 input.sk-hidden--visually {border: 0;clip: rect(1px 1px 1px 1px);clip: rect(1px, 1px, 1px, 1px);height: 1px;margin: -1px;overflow: hidden;padding: 0;position: absolute;width: 1px;}#sk-container-id-2 div.sk-estimator {font-family: monospace;background-color: #f0f8ff;border: 1px dotted black;border-radius: 0.25em;box-sizing: border-box;margin-bottom: 0.5em;}#sk-container-id-2 div.sk-estimator:hover {background-color: #d4ebff;}#sk-container-id-2 div.sk-parallel-item::after {content: \"\";width: 100%;border-bottom: 1px solid gray;flex-grow: 1;}#sk-container-id-2 div.sk-label:hover label.sk-toggleable__label {background-color: #d4ebff;}#sk-container-id-2 div.sk-serial::before {content: \"\";position: absolute;border-left: 1px solid gray;box-sizing: border-box;top: 0;bottom: 0;left: 50%;z-index: 0;}#sk-container-id-2 div.sk-serial {display: flex;flex-direction: column;align-items: center;background-color: white;padding-right: 0.2em;padding-left: 0.2em;position: relative;}#sk-container-id-2 div.sk-item {position: relative;z-index: 1;}#sk-container-id-2 div.sk-parallel {display: flex;align-items: stretch;justify-content: center;background-color: white;position: relative;}#sk-container-id-2 div.sk-item::before, #sk-container-id-2 div.sk-parallel-item::before {content: \"\";position: absolute;border-left: 1px solid gray;box-sizing: border-box;top: 0;bottom: 0;left: 50%;z-index: -1;}#sk-container-id-2 div.sk-parallel-item {display: flex;flex-direction: column;z-index: 1;position: relative;background-color: white;}#sk-container-id-2 div.sk-parallel-item:first-child::after {align-self: flex-end;width: 50%;}#sk-container-id-2 div.sk-parallel-item:last-child::after {align-self: flex-start;width: 50%;}#sk-container-id-2 div.sk-parallel-item:only-child::after {width: 0;}#sk-container-id-2 div.sk-dashed-wrapped {border: 1px dashed gray;margin: 0 0.4em 0.5em 0.4em;box-sizing: border-box;padding-bottom: 0.4em;background-color: white;}#sk-container-id-2 div.sk-label label {font-family: monospace;font-weight: bold;display: inline-block;line-height: 1.2em;}#sk-container-id-2 div.sk-label-container {text-align: center;}#sk-container-id-2 div.sk-container {/* jupyter's `normalize.less` sets `[hidden] { display: none; }` but bootstrap.min.css set `[hidden] { display: none !important; }` so we also need the `!important` here to be able to override the default hidden behavior on the sphinx rendered scikit-learn.org. See: https://github.com/scikit-learn/scikit-learn/issues/21755 */display: inline-block !important;position: relative;}#sk-container-id-2 div.sk-text-repr-fallback {display: none;}</style><div id=\"sk-container-id-2\" class=\"sk-top-container\"><div class=\"sk-text-repr-fallback\"><pre>LogisticRegression(C=0.0001, solver=&#x27;liblinear&#x27;)</pre><b>In a Jupyter environment, please rerun this cell to show the HTML representation or trust the notebook. <br />On GitHub, the HTML representation is unable to render, please try loading this page with nbviewer.org.</b></div><div class=\"sk-container\" hidden><div class=\"sk-item\"><div class=\"sk-estimator sk-toggleable\"><input class=\"sk-toggleable__control sk-hidden--visually\" id=\"sk-estimator-id-4\" type=\"checkbox\" checked><label for=\"sk-estimator-id-4\" class=\"sk-toggleable__label sk-toggleable__label-arrow\">LogisticRegression</label><div class=\"sk-toggleable__content\"><pre>LogisticRegression(C=0.0001, solver=&#x27;liblinear&#x27;)</pre></div></div></div></div></div>"
            ]
          },
          "metadata": {},
          "execution_count": 38
        }
      ],
      "source": [
        "lr_gsearch.best_estimator_"
      ]
    },
    {
      "cell_type": "code",
      "execution_count": null,
      "metadata": {
        "colab": {
          "base_uri": "https://localhost:8080/"
        },
        "id": "7hRIIT4_Xpzq",
        "outputId": "733fd815-b2d3-473f-bc5c-b98b9d89fc85"
      },
      "outputs": [
        {
          "output_type": "stream",
          "name": "stdout",
          "text": [
            "The Training Accuracy is: 0.567551622418879 \n",
            "\n",
            "The Test Accuracy is: 0.5887207702888583\n"
          ]
        }
      ],
      "source": [
        "lr_predictions, lr_train_acc, lr_test_acc = make_predictions(lr_gsearch.best_estimator_)"
      ]
    },
    {
      "cell_type": "code",
      "execution_count": null,
      "metadata": {
        "colab": {
          "base_uri": "https://localhost:8080/",
          "height": 472
        },
        "id": "p4ofZdW5XpxY",
        "outputId": "053fcb4b-d523-4a86-943e-ae05a6381554"
      },
      "outputs": [
        {
          "output_type": "display_data",
          "data": {
            "text/plain": [
              "<Figure size 640x480 with 2 Axes>"
            ],
            "image/png": "[encoded data removed]"
          },
          "metadata": {}
        }
      ],
      "source": [
        "plot_comparison(lr_predictions,y_test,'Logistic Regression')"
      ]
    },
    {
      "cell_type": "markdown",
      "metadata": {
        "id": "Q2TnG3XkfRJ6"
      },
      "source": [
        "### 3. KNN"
      ]
    },
    {
      "cell_type": "code",
      "execution_count": null,
      "metadata": {
        "colab": {
          "base_uri": "https://localhost:8080/",
          "height": 118
        },
        "id": "ItOh5UmjfTm5",
        "outputId": "f689eabe-bb0b-486c-9e49-45583b2aee53"
      },
      "outputs": [
        {
          "output_type": "execute_result",
          "data": {
            "text/plain": [
              "GridSearchCV(cv=TimeSeriesSplit(gap=0, max_train_size=None, n_splits=5, test_size=None),\n",
              "             estimator=KNeighborsClassifier(), n_jobs=-1,\n",
              "             param_grid={'algorithm': ['auto', 'ball_tree', 'kd_tree', 'brute'],\n",
              "                         'n_neighbors': [2, 4, 6, 8, 10, 20, 30], 'p': [1, 2],\n",
              "                         'weights': ['uniform', 'distance']},\n",
              "             scoring='accuracy')"
            ],
            "text/html": [
              "<style>#sk-container-id-3 {color: black;background-color: white;}#sk-container-id-3 pre{padding: 0;}#sk-container-id-3 div.sk-toggleable {background-color: white;}#sk-container-id-3 label.sk-toggleable__label {cursor: pointer;display: block;width: 100%;margin-bottom: 0;padding: 0.3em;box-sizing: border-box;text-align: center;}#sk-container-id-3 label.sk-toggleable__label-arrow:before {content: \"▸\";float: left;margin-right: 0.25em;color: #696969;}#sk-container-id-3 label.sk-toggleable__label-arrow:hover:before {color: black;}#sk-container-id-3 div.sk-estimator:hover label.sk-toggleable__label-arrow:before {color: black;}#sk-container-id-3 div.sk-toggleable__content {max-height: 0;max-width: 0;overflow: hidden;text-align: left;background-color: #f0f8ff;}#sk-container-id-3 div.sk-toggleable__content pre {margin: 0.2em;color: black;border-radius: 0.25em;background-color: #f0f8ff;}#sk-container-id-3 input.sk-toggleable__control:checked~div.sk-toggleable__content {max-height: 200px;max-width: 100%;overflow: auto;}#sk-container-id-3 input.sk-toggleable__control:checked~label.sk-toggleable__label-arrow:before {content: \"▾\";}#sk-container-id-3 div.sk-estimator input.sk-toggleable__control:checked~label.sk-toggleable__label {background-color: #d4ebff;}#sk-container-id-3 div.sk-label input.sk-toggleable__control:checked~label.sk-toggleable__label {background-color: #d4ebff;}#sk-container-id-3 input.sk-hidden--visually {border: 0;clip: rect(1px 1px 1px 1px);clip: rect(1px, 1px, 1px, 1px);height: 1px;margin: -1px;overflow: hidden;padding: 0;position: absolute;width: 1px;}#sk-container-id-3 div.sk-estimator {font-family: monospace;background-color: #f0f8ff;border: 1px dotted black;border-radius: 0.25em;box-sizing: border-box;margin-bottom: 0.5em;}#sk-container-id-3 div.sk-estimator:hover {background-color: #d4ebff;}#sk-container-id-3 div.sk-parallel-item::after {content: \"\";width: 100%;border-bottom: 1px solid gray;flex-grow: 1;}#sk-container-id-3 div.sk-label:hover label.sk-toggleable__label {background-color: #d4ebff;}#sk-container-id-3 div.sk-serial::before {content: \"\";position: absolute;border-left: 1px solid gray;box-sizing: border-box;top: 0;bottom: 0;left: 50%;z-index: 0;}#sk-container-id-3 div.sk-serial {display: flex;flex-direction: column;align-items: center;background-color: white;padding-right: 0.2em;padding-left: 0.2em;position: relative;}#sk-container-id-3 div.sk-item {position: relative;z-index: 1;}#sk-container-id-3 div.sk-parallel {display: flex;align-items: stretch;justify-content: center;background-color: white;position: relative;}#sk-container-id-3 div.sk-item::before, #sk-container-id-3 div.sk-parallel-item::before {content: \"\";position: absolute;border-left: 1px solid gray;box-sizing: border-box;top: 0;bottom: 0;left: 50%;z-index: -1;}#sk-container-id-3 div.sk-parallel-item {display: flex;flex-direction: column;z-index: 1;position: relative;background-color: white;}#sk-container-id-3 div.sk-parallel-item:first-child::after {align-self: flex-end;width: 50%;}#sk-container-id-3 div.sk-parallel-item:last-child::after {align-self: flex-start;width: 50%;}#sk-container-id-3 div.sk-parallel-item:only-child::after {width: 0;}#sk-container-id-3 div.sk-dashed-wrapped {border: 1px dashed gray;margin: 0 0.4em 0.5em 0.4em;box-sizing: border-box;padding-bottom: 0.4em;background-color: white;}#sk-container-id-3 div.sk-label label {font-family: monospace;font-weight: bold;display: inline-block;line-height: 1.2em;}#sk-container-id-3 div.sk-label-container {text-align: center;}#sk-container-id-3 div.sk-container {/* jupyter's `normalize.less` sets `[hidden] { display: none; }` but bootstrap.min.css set `[hidden] { display: none !important; }` so we also need the `!important` here to be able to override the default hidden behavior on the sphinx rendered scikit-learn.org. See: https://github.com/scikit-learn/scikit-learn/issues/21755 */display: inline-block !important;position: relative;}#sk-container-id-3 div.sk-text-repr-fallback {display: none;}</style><div id=\"sk-container-id-3\" class=\"sk-top-container\"><div class=\"sk-text-repr-fallback\"><pre>GridSearchCV(cv=TimeSeriesSplit(gap=0, max_train_size=None, n_splits=5, test_size=None),\n",
              "             estimator=KNeighborsClassifier(), n_jobs=-1,\n",
              "             param_grid={&#x27;algorithm&#x27;: [&#x27;auto&#x27;, &#x27;ball_tree&#x27;, &#x27;kd_tree&#x27;, &#x27;brute&#x27;],\n",
              "                         &#x27;n_neighbors&#x27;: [2, 4, 6, 8, 10, 20, 30], &#x27;p&#x27;: [1, 2],\n",
              "                         &#x27;weights&#x27;: [&#x27;uniform&#x27;, &#x27;distance&#x27;]},\n",
              "             scoring=&#x27;accuracy&#x27;)</pre><b>In a Jupyter environment, please rerun this cell to show the HTML representation or trust the notebook. <br />On GitHub, the HTML representation is unable to render, please try loading this page with nbviewer.org.</b></div><div class=\"sk-container\" hidden><div class=\"sk-item sk-dashed-wrapped\"><div class=\"sk-label-container\"><div class=\"sk-label sk-toggleable\"><input class=\"sk-toggleable__control sk-hidden--visually\" id=\"sk-estimator-id-5\" type=\"checkbox\" ><label for=\"sk-estimator-id-5\" class=\"sk-toggleable__label sk-toggleable__label-arrow\">GridSearchCV</label><div class=\"sk-toggleable__content\"><pre>GridSearchCV(cv=TimeSeriesSplit(gap=0, max_train_size=None, n_splits=5, test_size=None),\n",
              "             estimator=KNeighborsClassifier(), n_jobs=-1,\n",
              "             param_grid={&#x27;algorithm&#x27;: [&#x27;auto&#x27;, &#x27;ball_tree&#x27;, &#x27;kd_tree&#x27;, &#x27;brute&#x27;],\n",
              "                         &#x27;n_neighbors&#x27;: [2, 4, 6, 8, 10, 20, 30], &#x27;p&#x27;: [1, 2],\n",
              "                         &#x27;weights&#x27;: [&#x27;uniform&#x27;, &#x27;distance&#x27;]},\n",
              "             scoring=&#x27;accuracy&#x27;)</pre></div></div></div><div class=\"sk-parallel\"><div class=\"sk-parallel-item\"><div class=\"sk-item\"><div class=\"sk-label-container\"><div class=\"sk-label sk-toggleable\"><input class=\"sk-toggleable__control sk-hidden--visually\" id=\"sk-estimator-id-6\" type=\"checkbox\" ><label for=\"sk-estimator-id-6\" class=\"sk-toggleable__label sk-toggleable__label-arrow\">estimator: KNeighborsClassifier</label><div class=\"sk-toggleable__content\"><pre>KNeighborsClassifier()</pre></div></div></div><div class=\"sk-serial\"><div class=\"sk-item\"><div class=\"sk-estimator sk-toggleable\"><input class=\"sk-toggleable__control sk-hidden--visually\" id=\"sk-estimator-id-7\" type=\"checkbox\" ><label for=\"sk-estimator-id-7\" class=\"sk-toggleable__label sk-toggleable__label-arrow\">KNeighborsClassifier</label><div class=\"sk-toggleable__content\"><pre>KNeighborsClassifier()</pre></div></div></div></div></div></div></div></div></div></div>"
            ]
          },
          "metadata": {},
          "execution_count": 41
        }
      ],
      "source": [
        "knn = KNeighborsClassifier()\n",
        "param_search = {'n_neighbors': [2,4,6,8,10,20,30],\n",
        "                'weights': ['uniform','distance'],\n",
        "                'algorithm': ['auto','ball_tree','kd_tree','brute'],\n",
        "                'p':[1,2]}\n",
        "\n",
        "knn_gsearch = GridSearchCV(estimator=knn, cv=ts_cr_val, param_grid=param_search,scoring='accuracy',n_jobs=-1)\n",
        "knn_gsearch.fit(X_train_scaled, y_train)"
      ]
    },
    {
      "cell_type": "code",
      "execution_count": null,
      "metadata": {
        "colab": {
          "base_uri": "https://localhost:8080/",
          "height": 75
        },
        "id": "3isKC5mMfga_",
        "outputId": "767326cf-87d4-4ee1-dad2-4de9ec0151a3"
      },
      "outputs": [
        {
          "output_type": "execute_result",
          "data": {
            "text/plain": [
              "KNeighborsClassifier(n_neighbors=2, p=1, weights='distance')"
            ],
            "text/html": [
              "<style>#sk-container-id-4 {color: black;background-color: white;}#sk-container-id-4 pre{padding: 0;}#sk-container-id-4 div.sk-toggleable {background-color: white;}#sk-container-id-4 label.sk-toggleable__label {cursor: pointer;display: block;width: 100%;margin-bottom: 0;padding: 0.3em;box-sizing: border-box;text-align: center;}#sk-container-id-4 label.sk-toggleable__label-arrow:before {content: \"▸\";float: left;margin-right: 0.25em;color: #696969;}#sk-container-id-4 label.sk-toggleable__label-arrow:hover:before {color: black;}#sk-container-id-4 div.sk-estimator:hover label.sk-toggleable__label-arrow:before {color: black;}#sk-container-id-4 div.sk-toggleable__content {max-height: 0;max-width: 0;overflow: hidden;text-align: left;background-color: #f0f8ff;}#sk-container-id-4 div.sk-toggleable__content pre {margin: 0.2em;color: black;border-radius: 0.25em;background-color: #f0f8ff;}#sk-container-id-4 input.sk-toggleable__control:checked~div.sk-toggleable__content {max-height: 200px;max-width: 100%;overflow: auto;}#sk-container-id-4 input.sk-toggleable__control:checked~label.sk-toggleable__label-arrow:before {content: \"▾\";}#sk-container-id-4 div.sk-estimator input.sk-toggleable__control:checked~label.sk-toggleable__label {background-color: #d4ebff;}#sk-container-id-4 div.sk-label input.sk-toggleable__control:checked~label.sk-toggleable__label {background-color: #d4ebff;}#sk-container-id-4 input.sk-hidden--visually {border: 0;clip: rect(1px 1px 1px 1px);clip: rect(1px, 1px, 1px, 1px);height: 1px;margin: -1px;overflow: hidden;padding: 0;position: absolute;width: 1px;}#sk-container-id-4 div.sk-estimator {font-family: monospace;background-color: #f0f8ff;border: 1px dotted black;border-radius: 0.25em;box-sizing: border-box;margin-bottom: 0.5em;}#sk-container-id-4 div.sk-estimator:hover {background-color: #d4ebff;}#sk-container-id-4 div.sk-parallel-item::after {content: \"\";width: 100%;border-bottom: 1px solid gray;flex-grow: 1;}#sk-container-id-4 div.sk-label:hover label.sk-toggleable__label {background-color: #d4ebff;}#sk-container-id-4 div.sk-serial::before {content: \"\";position: absolute;border-left: 1px solid gray;box-sizing: border-box;top: 0;bottom: 0;left: 50%;z-index: 0;}#sk-container-id-4 div.sk-serial {display: flex;flex-direction: column;align-items: center;background-color: white;padding-right: 0.2em;padding-left: 0.2em;position: relative;}#sk-container-id-4 div.sk-item {position: relative;z-index: 1;}#sk-container-id-4 div.sk-parallel {display: flex;align-items: stretch;justify-content: center;background-color: white;position: relative;}#sk-container-id-4 div.sk-item::before, #sk-container-id-4 div.sk-parallel-item::before {content: \"\";position: absolute;border-left: 1px solid gray;box-sizing: border-box;top: 0;bottom: 0;left: 50%;z-index: -1;}#sk-container-id-4 div.sk-parallel-item {display: flex;flex-direction: column;z-index: 1;position: relative;background-color: white;}#sk-container-id-4 div.sk-parallel-item:first-child::after {align-self: flex-end;width: 50%;}#sk-container-id-4 div.sk-parallel-item:last-child::after {align-self: flex-start;width: 50%;}#sk-container-id-4 div.sk-parallel-item:only-child::after {width: 0;}#sk-container-id-4 div.sk-dashed-wrapped {border: 1px dashed gray;margin: 0 0.4em 0.5em 0.4em;box-sizing: border-box;padding-bottom: 0.4em;background-color: white;}#sk-container-id-4 div.sk-label label {font-family: monospace;font-weight: bold;display: inline-block;line-height: 1.2em;}#sk-container-id-4 div.sk-label-container {text-align: center;}#sk-container-id-4 div.sk-container {/* jupyter's `normalize.less` sets `[hidden] { display: none; }` but bootstrap.min.css set `[hidden] { display: none !important; }` so we also need the `!important` here to be able to override the default hidden behavior on the sphinx rendered scikit-learn.org. See: https://github.com/scikit-learn/scikit-learn/issues/21755 */display: inline-block !important;position: relative;}#sk-container-id-4 div.sk-text-repr-fallback {display: none;}</style><div id=\"sk-container-id-4\" class=\"sk-top-container\"><div class=\"sk-text-repr-fallback\"><pre>KNeighborsClassifier(n_neighbors=2, p=1, weights=&#x27;distance&#x27;)</pre><b>In a Jupyter environment, please rerun this cell to show the HTML representation or trust the notebook. <br />On GitHub, the HTML representation is unable to render, please try loading this page with nbviewer.org.</b></div><div class=\"sk-container\" hidden><div class=\"sk-item\"><div class=\"sk-estimator sk-toggleable\"><input class=\"sk-toggleable__control sk-hidden--visually\" id=\"sk-estimator-id-8\" type=\"checkbox\" checked><label for=\"sk-estimator-id-8\" class=\"sk-toggleable__label sk-toggleable__label-arrow\">KNeighborsClassifier</label><div class=\"sk-toggleable__content\"><pre>KNeighborsClassifier(n_neighbors=2, p=1, weights=&#x27;distance&#x27;)</pre></div></div></div></div></div>"
            ]
          },
          "metadata": {},
          "execution_count": 42
        }
      ],
      "source": [
        "knn_gsearch.best_estimator_"
      ]
    },
    {
      "cell_type": "code",
      "execution_count": null,
      "metadata": {
        "colab": {
          "base_uri": "https://localhost:8080/"
        },
        "id": "_hCte-8kfga_",
        "outputId": "68da041d-3846-4048-aaee-4898fc89da67"
      },
      "outputs": [
        {
          "output_type": "stream",
          "name": "stdout",
          "text": [
            "The Training Accuracy is: 1.0 \n",
            "\n",
            "The Test Accuracy is: 0.4951856946354883\n"
          ]
        }
      ],
      "source": [
        "knn_predictions, knn_train_acc, knn_test_acc = make_predictions(knn_gsearch.best_estimator_)"
      ]
    },
    {
      "cell_type": "code",
      "execution_count": null,
      "metadata": {
        "colab": {
          "base_uri": "https://localhost:8080/",
          "height": 472
        },
        "id": "o8uNGUCAfga_",
        "outputId": "dc9ef9b7-e37f-4622-fc3c-903288372710"
      },
      "outputs": [
        {
          "output_type": "display_data",
          "data": {
            "text/plain": [
              "<Figure size 640x480 with 2 Axes>"
            ],
            "image/png": "[encoded data removed]"
          },
          "metadata": {}
        }
      ],
      "source": [
        "plot_comparison(knn_predictions,y_test,'K-nearest-neighbors')"
      ]
    },
    {
      "cell_type": "markdown",
      "metadata": {
        "id": "HmOlFNWhf3ZE"
      },
      "source": [
        "### 4. Naive Bayes"
      ]
    },
    {
      "cell_type": "code",
      "execution_count": null,
      "metadata": {
        "colab": {
          "base_uri": "https://localhost:8080/",
          "height": 118
        },
        "id": "Mkg-7G4Bf50U",
        "outputId": "529350ed-debe-4d1f-e795-d12bc3f55932"
      },
      "outputs": [
        {
          "output_type": "execute_result",
          "data": {
            "text/plain": [
              "GridSearchCV(cv=TimeSeriesSplit(gap=0, max_train_size=None, n_splits=5, test_size=None),\n",
              "             estimator=GaussianNB(), n_jobs=-1,\n",
              "             param_grid={'var_smoothing': array([1.00000000e+00, 8.11130831e-01, 6.57933225e-01, 5.33669923e-01,\n",
              "       4.32876128e-01, 3.51119173e-01, 2.84803587e-01, 2.31012970e-01,\n",
              "       1.87381742e-01, 1.51991108e-01, 1.23284674e-01, 1.00000000e-01,\n",
              "       8.11130831e-02, 6....\n",
              "       1.23284674e-07, 1.00000000e-07, 8.11130831e-08, 6.57933225e-08,\n",
              "       5.33669923e-08, 4.32876128e-08, 3.51119173e-08, 2.84803587e-08,\n",
              "       2.31012970e-08, 1.87381742e-08, 1.51991108e-08, 1.23284674e-08,\n",
              "       1.00000000e-08, 8.11130831e-09, 6.57933225e-09, 5.33669923e-09,\n",
              "       4.32876128e-09, 3.51119173e-09, 2.84803587e-09, 2.31012970e-09,\n",
              "       1.87381742e-09, 1.51991108e-09, 1.23284674e-09, 1.00000000e-09])},\n",
              "             scoring='accuracy')"
            ],
            "text/html": [
              "<style>#sk-container-id-5 {color: black;background-color: white;}#sk-container-id-5 pre{padding: 0;}#sk-container-id-5 div.sk-toggleable {background-color: white;}#sk-container-id-5 label.sk-toggleable__label {cursor: pointer;display: block;width: 100%;margin-bottom: 0;padding: 0.3em;box-sizing: border-box;text-align: center;}#sk-container-id-5 label.sk-toggleable__label-arrow:before {content: \"▸\";float: left;margin-right: 0.25em;color: #696969;}#sk-container-id-5 label.sk-toggleable__label-arrow:hover:before {color: black;}#sk-container-id-5 div.sk-estimator:hover label.sk-toggleable__label-arrow:before {color: black;}#sk-container-id-5 div.sk-toggleable__content {max-height: 0;max-width: 0;overflow: hidden;text-align: left;background-color: #f0f8ff;}#sk-container-id-5 div.sk-toggleable__content pre {margin: 0.2em;color: black;border-radius: 0.25em;background-color: #f0f8ff;}#sk-container-id-5 input.sk-toggleable__control:checked~div.sk-toggleable__content {max-height: 200px;max-width: 100%;overflow: auto;}#sk-container-id-5 input.sk-toggleable__control:checked~label.sk-toggleable__label-arrow:before {content: \"▾\";}#sk-container-id-5 div.sk-estimator input.sk-toggleable__control:checked~label.sk-toggleable__label {background-color: #d4ebff;}#sk-container-id-5 div.sk-label input.sk-toggleable__control:checked~label.sk-toggleable__label {background-color: #d4ebff;}#sk-container-id-5 input.sk-hidden--visually {border: 0;clip: rect(1px 1px 1px 1px);clip: rect(1px, 1px, 1px, 1px);height: 1px;margin: -1px;overflow: hidden;padding: 0;position: absolute;width: 1px;}#sk-container-id-5 div.sk-estimator {font-family: monospace;background-color: #f0f8ff;border: 1px dotted black;border-radius: 0.25em;box-sizing: border-box;margin-bottom: 0.5em;}#sk-container-id-5 div.sk-estimator:hover {background-color: #d4ebff;}#sk-container-id-5 div.sk-parallel-item::after {content: \"\";width: 100%;border-bottom: 1px solid gray;flex-grow: 1;}#sk-container-id-5 div.sk-label:hover label.sk-toggleable__label {background-color: #d4ebff;}#sk-container-id-5 div.sk-serial::before {content: \"\";position: absolute;border-left: 1px solid gray;box-sizing: border-box;top: 0;bottom: 0;left: 50%;z-index: 0;}#sk-container-id-5 div.sk-serial {display: flex;flex-direction: column;align-items: center;background-color: white;padding-right: 0.2em;padding-left: 0.2em;position: relative;}#sk-container-id-5 div.sk-item {position: relative;z-index: 1;}#sk-container-id-5 div.sk-parallel {display: flex;align-items: stretch;justify-content: center;background-color: white;position: relative;}#sk-container-id-5 div.sk-item::before, #sk-container-id-5 div.sk-parallel-item::before {content: \"\";position: absolute;border-left: 1px solid gray;box-sizing: border-box;top: 0;bottom: 0;left: 50%;z-index: -1;}#sk-container-id-5 div.sk-parallel-item {display: flex;flex-direction: column;z-index: 1;position: relative;background-color: white;}#sk-container-id-5 div.sk-parallel-item:first-child::after {align-self: flex-end;width: 50%;}#sk-container-id-5 div.sk-parallel-item:last-child::after {align-self: flex-start;width: 50%;}#sk-container-id-5 div.sk-parallel-item:only-child::after {width: 0;}#sk-container-id-5 div.sk-dashed-wrapped {border: 1px dashed gray;margin: 0 0.4em 0.5em 0.4em;box-sizing: border-box;padding-bottom: 0.4em;background-color: white;}#sk-container-id-5 div.sk-label label {font-family: monospace;font-weight: bold;display: inline-block;line-height: 1.2em;}#sk-container-id-5 div.sk-label-container {text-align: center;}#sk-container-id-5 div.sk-container {/* jupyter's `normalize.less` sets `[hidden] { display: none; }` but bootstrap.min.css set `[hidden] { display: none !important; }` so we also need the `!important` here to be able to override the default hidden behavior on the sphinx rendered scikit-learn.org. See: https://github.com/scikit-learn/scikit-learn/issues/21755 */display: inline-block !important;position: relative;}#sk-container-id-5 div.sk-text-repr-fallback {display: none;}</style><div id=\"sk-container-id-5\" class=\"sk-top-container\"><div class=\"sk-text-repr-fallback\"><pre>GridSearchCV(cv=TimeSeriesSplit(gap=0, max_train_size=None, n_splits=5, test_size=None),\n",
              "             estimator=GaussianNB(), n_jobs=-1,\n",
              "             param_grid={&#x27;var_smoothing&#x27;: array([1.00000000e+00, 8.11130831e-01, 6.57933225e-01, 5.33669923e-01,\n",
              "       4.32876128e-01, 3.51119173e-01, 2.84803587e-01, 2.31012970e-01,\n",
              "       1.87381742e-01, 1.51991108e-01, 1.23284674e-01, 1.00000000e-01,\n",
              "       8.11130831e-02, 6....\n",
              "       1.23284674e-07, 1.00000000e-07, 8.11130831e-08, 6.57933225e-08,\n",
              "       5.33669923e-08, 4.32876128e-08, 3.51119173e-08, 2.84803587e-08,\n",
              "       2.31012970e-08, 1.87381742e-08, 1.51991108e-08, 1.23284674e-08,\n",
              "       1.00000000e-08, 8.11130831e-09, 6.57933225e-09, 5.33669923e-09,\n",
              "       4.32876128e-09, 3.51119173e-09, 2.84803587e-09, 2.31012970e-09,\n",
              "       1.87381742e-09, 1.51991108e-09, 1.23284674e-09, 1.00000000e-09])},\n",
              "             scoring=&#x27;accuracy&#x27;)</pre><b>In a Jupyter environment, please rerun this cell to show the HTML representation or trust the notebook. <br />On GitHub, the HTML representation is unable to render, please try loading this page with nbviewer.org.</b></div><div class=\"sk-container\" hidden><div class=\"sk-item sk-dashed-wrapped\"><div class=\"sk-label-container\"><div class=\"sk-label sk-toggleable\"><input class=\"sk-toggleable__control sk-hidden--visually\" id=\"sk-estimator-id-9\" type=\"checkbox\" ><label for=\"sk-estimator-id-9\" class=\"sk-toggleable__label sk-toggleable__label-arrow\">GridSearchCV</label><div class=\"sk-toggleable__content\"><pre>GridSearchCV(cv=TimeSeriesSplit(gap=0, max_train_size=None, n_splits=5, test_size=None),\n",
              "             estimator=GaussianNB(), n_jobs=-1,\n",
              "             param_grid={&#x27;var_smoothing&#x27;: array([1.00000000e+00, 8.11130831e-01, 6.57933225e-01, 5.33669923e-01,\n",
              "       4.32876128e-01, 3.51119173e-01, 2.84803587e-01, 2.31012970e-01,\n",
              "       1.87381742e-01, 1.51991108e-01, 1.23284674e-01, 1.00000000e-01,\n",
              "       8.11130831e-02, 6....\n",
              "       1.23284674e-07, 1.00000000e-07, 8.11130831e-08, 6.57933225e-08,\n",
              "       5.33669923e-08, 4.32876128e-08, 3.51119173e-08, 2.84803587e-08,\n",
              "       2.31012970e-08, 1.87381742e-08, 1.51991108e-08, 1.23284674e-08,\n",
              "       1.00000000e-08, 8.11130831e-09, 6.57933225e-09, 5.33669923e-09,\n",
              "       4.32876128e-09, 3.51119173e-09, 2.84803587e-09, 2.31012970e-09,\n",
              "       1.87381742e-09, 1.51991108e-09, 1.23284674e-09, 1.00000000e-09])},\n",
              "             scoring=&#x27;accuracy&#x27;)</pre></div></div></div><div class=\"sk-parallel\"><div class=\"sk-parallel-item\"><div class=\"sk-item\"><div class=\"sk-label-container\"><div class=\"sk-label sk-toggleable\"><input class=\"sk-toggleable__control sk-hidden--visually\" id=\"sk-estimator-id-10\" type=\"checkbox\" ><label for=\"sk-estimator-id-10\" class=\"sk-toggleable__label sk-toggleable__label-arrow\">estimator: GaussianNB</label><div class=\"sk-toggleable__content\"><pre>GaussianNB()</pre></div></div></div><div class=\"sk-serial\"><div class=\"sk-item\"><div class=\"sk-estimator sk-toggleable\"><input class=\"sk-toggleable__control sk-hidden--visually\" id=\"sk-estimator-id-11\" type=\"checkbox\" ><label for=\"sk-estimator-id-11\" class=\"sk-toggleable__label sk-toggleable__label-arrow\">GaussianNB</label><div class=\"sk-toggleable__content\"><pre>GaussianNB()</pre></div></div></div></div></div></div></div></div></div></div>"
            ]
          },
          "metadata": {},
          "execution_count": 45
        }
      ],
      "source": [
        "nb = GaussianNB()\n",
        "param_search = {'var_smoothing': np.logspace(0,-9, num=100)}\n",
        "nb_gsearch = GridSearchCV(estimator=nb, cv=ts_cr_val, param_grid=param_search,scoring='accuracy',n_jobs=-1)\n",
        "nb_gsearch.fit(X_train_scaled, y_train)"
      ]
    },
    {
      "cell_type": "code",
      "execution_count": null,
      "metadata": {
        "colab": {
          "base_uri": "https://localhost:8080/",
          "height": 75
        },
        "id": "N-sYrT7zf50V",
        "outputId": "a5153b05-9866-40e5-c6b1-b1d5ecb9c904"
      },
      "outputs": [
        {
          "output_type": "execute_result",
          "data": {
            "text/plain": [
              "GaussianNB(var_smoothing=0.08111308307896872)"
            ],
            "text/html": [
              "<style>#sk-container-id-6 {color: black;background-color: white;}#sk-container-id-6 pre{padding: 0;}#sk-container-id-6 div.sk-toggleable {background-color: white;}#sk-container-id-6 label.sk-toggleable__label {cursor: pointer;display: block;width: 100%;margin-bottom: 0;padding: 0.3em;box-sizing: border-box;text-align: center;}#sk-container-id-6 label.sk-toggleable__label-arrow:before {content: \"▸\";float: left;margin-right: 0.25em;color: #696969;}#sk-container-id-6 label.sk-toggleable__label-arrow:hover:before {color: black;}#sk-container-id-6 div.sk-estimator:hover label.sk-toggleable__label-arrow:before {color: black;}#sk-container-id-6 div.sk-toggleable__content {max-height: 0;max-width: 0;overflow: hidden;text-align: left;background-color: #f0f8ff;}#sk-container-id-6 div.sk-toggleable__content pre {margin: 0.2em;color: black;border-radius: 0.25em;background-color: #f0f8ff;}#sk-container-id-6 input.sk-toggleable__control:checked~div.sk-toggleable__content {max-height: 200px;max-width: 100%;overflow: auto;}#sk-container-id-6 input.sk-toggleable__control:checked~label.sk-toggleable__label-arrow:before {content: \"▾\";}#sk-container-id-6 div.sk-estimator input.sk-toggleable__control:checked~label.sk-toggleable__label {background-color: #d4ebff;}#sk-container-id-6 div.sk-label input.sk-toggleable__control:checked~label.sk-toggleable__label {background-color: #d4ebff;}#sk-container-id-6 input.sk-hidden--visually {border: 0;clip: rect(1px 1px 1px 1px);clip: rect(1px, 1px, 1px, 1px);height: 1px;margin: -1px;overflow: hidden;padding: 0;position: absolute;width: 1px;}#sk-container-id-6 div.sk-estimator {font-family: monospace;background-color: #f0f8ff;border: 1px dotted black;border-radius: 0.25em;box-sizing: border-box;margin-bottom: 0.5em;}#sk-container-id-6 div.sk-estimator:hover {background-color: #d4ebff;}#sk-container-id-6 div.sk-parallel-item::after {content: \"\";width: 100%;border-bottom: 1px solid gray;flex-grow: 1;}#sk-container-id-6 div.sk-label:hover label.sk-toggleable__label {background-color: #d4ebff;}#sk-container-id-6 div.sk-serial::before {content: \"\";position: absolute;border-left: 1px solid gray;box-sizing: border-box;top: 0;bottom: 0;left: 50%;z-index: 0;}#sk-container-id-6 div.sk-serial {display: flex;flex-direction: column;align-items: center;background-color: white;padding-right: 0.2em;padding-left: 0.2em;position: relative;}#sk-container-id-6 div.sk-item {position: relative;z-index: 1;}#sk-container-id-6 div.sk-parallel {display: flex;align-items: stretch;justify-content: center;background-color: white;position: relative;}#sk-container-id-6 div.sk-item::before, #sk-container-id-6 div.sk-parallel-item::before {content: \"\";position: absolute;border-left: 1px solid gray;box-sizing: border-box;top: 0;bottom: 0;left: 50%;z-index: -1;}#sk-container-id-6 div.sk-parallel-item {display: flex;flex-direction: column;z-index: 1;position: relative;background-color: white;}#sk-container-id-6 div.sk-parallel-item:first-child::after {align-self: flex-end;width: 50%;}#sk-container-id-6 div.sk-parallel-item:last-child::after {align-self: flex-start;width: 50%;}#sk-container-id-6 div.sk-parallel-item:only-child::after {width: 0;}#sk-container-id-6 div.sk-dashed-wrapped {border: 1px dashed gray;margin: 0 0.4em 0.5em 0.4em;box-sizing: border-box;padding-bottom: 0.4em;background-color: white;}#sk-container-id-6 div.sk-label label {font-family: monospace;font-weight: bold;display: inline-block;line-height: 1.2em;}#sk-container-id-6 div.sk-label-container {text-align: center;}#sk-container-id-6 div.sk-container {/* jupyter's `normalize.less` sets `[hidden] { display: none; }` but bootstrap.min.css set `[hidden] { display: none !important; }` so we also need the `!important` here to be able to override the default hidden behavior on the sphinx rendered scikit-learn.org. See: https://github.com/scikit-learn/scikit-learn/issues/21755 */display: inline-block !important;position: relative;}#sk-container-id-6 div.sk-text-repr-fallback {display: none;}</style><div id=\"sk-container-id-6\" class=\"sk-top-container\"><div class=\"sk-text-repr-fallback\"><pre>GaussianNB(var_smoothing=0.08111308307896872)</pre><b>In a Jupyter environment, please rerun this cell to show the HTML representation or trust the notebook. <br />On GitHub, the HTML representation is unable to render, please try loading this page with nbviewer.org.</b></div><div class=\"sk-container\" hidden><div class=\"sk-item\"><div class=\"sk-estimator sk-toggleable\"><input class=\"sk-toggleable__control sk-hidden--visually\" id=\"sk-estimator-id-12\" type=\"checkbox\" checked><label for=\"sk-estimator-id-12\" class=\"sk-toggleable__label sk-toggleable__label-arrow\">GaussianNB</label><div class=\"sk-toggleable__content\"><pre>GaussianNB(var_smoothing=0.08111308307896872)</pre></div></div></div></div></div>"
            ]
          },
          "metadata": {},
          "execution_count": 46
        }
      ],
      "source": [
        "nb_gsearch.best_estimator_"
      ]
    },
    {
      "cell_type": "code",
      "execution_count": null,
      "metadata": {
        "colab": {
          "base_uri": "https://localhost:8080/"
        },
        "id": "ukAMDLPOf50V",
        "outputId": "3e98c695-9657-409b-df0f-8b06d759e319"
      },
      "outputs": [
        {
          "output_type": "stream",
          "name": "stdout",
          "text": [
            "The Training Accuracy is: 0.5551622418879056 \n",
            "\n",
            "The Test Accuracy is: 0.5777166437414031\n"
          ]
        }
      ],
      "source": [
        "nb_predictions, nb_train_acc, nb_test_acc = make_predictions(nb_gsearch.best_estimator_)"
      ]
    },
    {
      "cell_type": "code",
      "execution_count": null,
      "metadata": {
        "colab": {
          "base_uri": "https://localhost:8080/",
          "height": 472
        },
        "id": "ILGVpFzrf50V",
        "outputId": "cc458fb7-a937-4310-9603-098411db29e3"
      },
      "outputs": [
        {
          "output_type": "display_data",
          "data": {
            "text/plain": [
              "<Figure size 640x480 with 2 Axes>"
            ],
            "image/png": "[encoded data removed]"
          },
          "metadata": {}
        }
      ],
      "source": [
        "plot_comparison(nb_predictions,y_test,'Naive Bayes Classifier')"
      ]
    },
    {
      "cell_type": "markdown",
      "metadata": {
        "id": "mXunEzX8CQu4"
      },
      "source": [
        "### 5. Decision Tree"
      ]
    },
    {
      "cell_type": "code",
      "execution_count": null,
      "metadata": {
        "colab": {
          "base_uri": "https://localhost:8080/",
          "height": 118
        },
        "id": "T0FWpUV2geBB",
        "outputId": "1781212a-c221-42d2-d09d-ded4bdd13380"
      },
      "outputs": [
        {
          "output_type": "execute_result",
          "data": {
            "text/plain": [
              "GridSearchCV(cv=TimeSeriesSplit(gap=0, max_train_size=None, n_splits=5, test_size=None),\n",
              "             estimator=DecisionTreeClassifier(), n_jobs=-1,\n",
              "             param_grid={'max_depth': [1, 2, 3, 5, 7],\n",
              "                         'max_leaf_nodes': [None, 10, 20, 30, 50, 70, 80, 90],\n",
              "                         'min_samples_leaf': [1, 3, 5, 7, 8, 10],\n",
              "                         'min_weight_fraction_leaf': [0.1, 0.2, 0.3, 0.4, 0.5]},\n",
              "             scoring='accuracy')"
            ],
            "text/html": [
              "<style>#sk-container-id-7 {color: black;background-color: white;}#sk-container-id-7 pre{padding: 0;}#sk-container-id-7 div.sk-toggleable {background-color: white;}#sk-container-id-7 label.sk-toggleable__label {cursor: pointer;display: block;width: 100%;margin-bottom: 0;padding: 0.3em;box-sizing: border-box;text-align: center;}#sk-container-id-7 label.sk-toggleable__label-arrow:before {content: \"▸\";float: left;margin-right: 0.25em;color: #696969;}#sk-container-id-7 label.sk-toggleable__label-arrow:hover:before {color: black;}#sk-container-id-7 div.sk-estimator:hover label.sk-toggleable__label-arrow:before {color: black;}#sk-container-id-7 div.sk-toggleable__content {max-height: 0;max-width: 0;overflow: hidden;text-align: left;background-color: #f0f8ff;}#sk-container-id-7 div.sk-toggleable__content pre {margin: 0.2em;color: black;border-radius: 0.25em;background-color: #f0f8ff;}#sk-container-id-7 input.sk-toggleable__control:checked~div.sk-toggleable__content {max-height: 200px;max-width: 100%;overflow: auto;}#sk-container-id-7 input.sk-toggleable__control:checked~label.sk-toggleable__label-arrow:before {content: \"▾\";}#sk-container-id-7 div.sk-estimator input.sk-toggleable__control:checked~label.sk-toggleable__label {background-color: #d4ebff;}#sk-container-id-7 div.sk-label input.sk-toggleable__control:checked~label.sk-toggleable__label {background-color: #d4ebff;}#sk-container-id-7 input.sk-hidden--visually {border: 0;clip: rect(1px 1px 1px 1px);clip: rect(1px, 1px, 1px, 1px);height: 1px;margin: -1px;overflow: hidden;padding: 0;position: absolute;width: 1px;}#sk-container-id-7 div.sk-estimator {font-family: monospace;background-color: #f0f8ff;border: 1px dotted black;border-radius: 0.25em;box-sizing: border-box;margin-bottom: 0.5em;}#sk-container-id-7 div.sk-estimator:hover {background-color: #d4ebff;}#sk-container-id-7 div.sk-parallel-item::after {content: \"\";width: 100%;border-bottom: 1px solid gray;flex-grow: 1;}#sk-container-id-7 div.sk-label:hover label.sk-toggleable__label {background-color: #d4ebff;}#sk-container-id-7 div.sk-serial::before {content: \"\";position: absolute;border-left: 1px solid gray;box-sizing: border-box;top: 0;bottom: 0;left: 50%;z-index: 0;}#sk-container-id-7 div.sk-serial {display: flex;flex-direction: column;align-items: center;background-color: white;padding-right: 0.2em;padding-left: 0.2em;position: relative;}#sk-container-id-7 div.sk-item {position: relative;z-index: 1;}#sk-container-id-7 div.sk-parallel {display: flex;align-items: stretch;justify-content: center;background-color: white;position: relative;}#sk-container-id-7 div.sk-item::before, #sk-container-id-7 div.sk-parallel-item::before {content: \"\";position: absolute;border-left: 1px solid gray;box-sizing: border-box;top: 0;bottom: 0;left: 50%;z-index: -1;}#sk-container-id-7 div.sk-parallel-item {display: flex;flex-direction: column;z-index: 1;position: relative;background-color: white;}#sk-container-id-7 div.sk-parallel-item:first-child::after {align-self: flex-end;width: 50%;}#sk-container-id-7 div.sk-parallel-item:last-child::after {align-self: flex-start;width: 50%;}#sk-container-id-7 div.sk-parallel-item:only-child::after {width: 0;}#sk-container-id-7 div.sk-dashed-wrapped {border: 1px dashed gray;margin: 0 0.4em 0.5em 0.4em;box-sizing: border-box;padding-bottom: 0.4em;background-color: white;}#sk-container-id-7 div.sk-label label {font-family: monospace;font-weight: bold;display: inline-block;line-height: 1.2em;}#sk-container-id-7 div.sk-label-container {text-align: center;}#sk-container-id-7 div.sk-container {/* jupyter's `normalize.less` sets `[hidden] { display: none; }` but bootstrap.min.css set `[hidden] { display: none !important; }` so we also need the `!important` here to be able to override the default hidden behavior on the sphinx rendered scikit-learn.org. See: https://github.com/scikit-learn/scikit-learn/issues/21755 */display: inline-block !important;position: relative;}#sk-container-id-7 div.sk-text-repr-fallback {display: none;}</style><div id=\"sk-container-id-7\" class=\"sk-top-container\"><div class=\"sk-text-repr-fallback\"><pre>GridSearchCV(cv=TimeSeriesSplit(gap=0, max_train_size=None, n_splits=5, test_size=None),\n",
              "             estimator=DecisionTreeClassifier(), n_jobs=-1,\n",
              "             param_grid={&#x27;max_depth&#x27;: [1, 2, 3, 5, 7],\n",
              "                         &#x27;max_leaf_nodes&#x27;: [None, 10, 20, 30, 50, 70, 80, 90],\n",
              "                         &#x27;min_samples_leaf&#x27;: [1, 3, 5, 7, 8, 10],\n",
              "                         &#x27;min_weight_fraction_leaf&#x27;: [0.1, 0.2, 0.3, 0.4, 0.5]},\n",
              "             scoring=&#x27;accuracy&#x27;)</pre><b>In a Jupyter environment, please rerun this cell to show the HTML representation or trust the notebook. <br />On GitHub, the HTML representation is unable to render, please try loading this page with nbviewer.org.</b></div><div class=\"sk-container\" hidden><div class=\"sk-item sk-dashed-wrapped\"><div class=\"sk-label-container\"><div class=\"sk-label sk-toggleable\"><input class=\"sk-toggleable__control sk-hidden--visually\" id=\"sk-estimator-id-13\" type=\"checkbox\" ><label for=\"sk-estimator-id-13\" class=\"sk-toggleable__label sk-toggleable__label-arrow\">GridSearchCV</label><div class=\"sk-toggleable__content\"><pre>GridSearchCV(cv=TimeSeriesSplit(gap=0, max_train_size=None, n_splits=5, test_size=None),\n",
              "             estimator=DecisionTreeClassifier(), n_jobs=-1,\n",
              "             param_grid={&#x27;max_depth&#x27;: [1, 2, 3, 5, 7],\n",
              "                         &#x27;max_leaf_nodes&#x27;: [None, 10, 20, 30, 50, 70, 80, 90],\n",
              "                         &#x27;min_samples_leaf&#x27;: [1, 3, 5, 7, 8, 10],\n",
              "                         &#x27;min_weight_fraction_leaf&#x27;: [0.1, 0.2, 0.3, 0.4, 0.5]},\n",
              "             scoring=&#x27;accuracy&#x27;)</pre></div></div></div><div class=\"sk-parallel\"><div class=\"sk-parallel-item\"><div class=\"sk-item\"><div class=\"sk-label-container\"><div class=\"sk-label sk-toggleable\"><input class=\"sk-toggleable__control sk-hidden--visually\" id=\"sk-estimator-id-14\" type=\"checkbox\" ><label for=\"sk-estimator-id-14\" class=\"sk-toggleable__label sk-toggleable__label-arrow\">estimator: DecisionTreeClassifier</label><div class=\"sk-toggleable__content\"><pre>DecisionTreeClassifier()</pre></div></div></div><div class=\"sk-serial\"><div class=\"sk-item\"><div class=\"sk-estimator sk-toggleable\"><input class=\"sk-toggleable__control sk-hidden--visually\" id=\"sk-estimator-id-15\" type=\"checkbox\" ><label for=\"sk-estimator-id-15\" class=\"sk-toggleable__label sk-toggleable__label-arrow\">DecisionTreeClassifier</label><div class=\"sk-toggleable__content\"><pre>DecisionTreeClassifier()</pre></div></div></div></div></div></div></div></div></div></div>"
            ]
          },
          "metadata": {},
          "execution_count": 49
        }
      ],
      "source": [
        "dt = DecisionTreeClassifier()\n",
        "param_search = {\"max_depth\" : [1,2,3,5,7],\n",
        "                \"min_samples_leaf\":[1,3,5,7,8,10],\n",
        "                \"min_weight_fraction_leaf\":[0.1,0.2,0.3,0.4,0.5],\n",
        "                \"max_leaf_nodes\":[None,10,20,30,50,70,80,90] }\n",
        "\n",
        "dt_gsearch = GridSearchCV(estimator=dt, cv=ts_cr_val, scoring='accuracy',param_grid=param_search,n_jobs=-1)\n",
        "dt_gsearch.fit(X_train_scaled, y_train)"
      ]
    },
    {
      "cell_type": "code",
      "execution_count": null,
      "metadata": {
        "colab": {
          "base_uri": "https://localhost:8080/"
        },
        "id": "zPwvIrWwnEvw",
        "outputId": "7a852a0f-a382-41eb-93f4-32fb586f66bd"
      },
      "outputs": [
        {
          "output_type": "stream",
          "name": "stdout",
          "text": [
            "The Training Accuracy is: 0.6206489675516225 \n",
            "\n",
            "The Test Accuracy is: 0.5075653370013755\n"
          ]
        }
      ],
      "source": [
        "dt_predictions, dt_train_acc, dt_test_acc = make_predictions(dt_gsearch.best_estimator_)"
      ]
    },
    {
      "cell_type": "code",
      "execution_count": null,
      "metadata": {
        "colab": {
          "base_uri": "https://localhost:8080/",
          "height": 472
        },
        "id": "OxBestr8nfHO",
        "outputId": "a4c979cd-3972-4f30-b108-118b2381c654"
      },
      "outputs": [
        {
          "output_type": "display_data",
          "data": {
            "text/plain": [
              "<Figure size 640x480 with 2 Axes>"
            ],
            "image/png": "[encoded data removed]"
          },
          "metadata": {}
        }
      ],
      "source": [
        "plot_comparison(dt_predictions, y_test,'Decision Tree Classifier')"
      ]
    },
    {
      "cell_type": "markdown",
      "metadata": {
        "id": "oMFI7C4xEZY5"
      },
      "source": [
        "### 6. Random Forest"
      ]
    },
    {
      "cell_type": "code",
      "execution_count": null,
      "metadata": {
        "colab": {
          "base_uri": "https://localhost:8080/",
          "height": 118
        },
        "id": "OW21SJjinsMn",
        "outputId": "4a1780b6-9ae8-4652-cbaa-eba925f4d20f"
      },
      "outputs": [
        {
          "output_type": "execute_result",
          "data": {
            "text/plain": [
              "GridSearchCV(cv=TimeSeriesSplit(gap=0, max_train_size=None, n_splits=5, test_size=None),\n",
              "             estimator=RandomForestClassifier(), n_jobs=-1,\n",
              "             param_grid={'ccp_alpha': [0, 0.01, 0.1, 1, 10],\n",
              "                         'max_depth': [1, 2, 3],\n",
              "                         'max_features': ['sqrt', 'log2', None],\n",
              "                         'min_samples_split': [2, 5, 10]},\n",
              "             scoring='accuracy')"
            ],
            "text/html": [
              "<style>#sk-container-id-8 {color: black;background-color: white;}#sk-container-id-8 pre{padding: 0;}#sk-container-id-8 div.sk-toggleable {background-color: white;}#sk-container-id-8 label.sk-toggleable__label {cursor: pointer;display: block;width: 100%;margin-bottom: 0;padding: 0.3em;box-sizing: border-box;text-align: center;}#sk-container-id-8 label.sk-toggleable__label-arrow:before {content: \"▸\";float: left;margin-right: 0.25em;color: #696969;}#sk-container-id-8 label.sk-toggleable__label-arrow:hover:before {color: black;}#sk-container-id-8 div.sk-estimator:hover label.sk-toggleable__label-arrow:before {color: black;}#sk-container-id-8 div.sk-toggleable__content {max-height: 0;max-width: 0;overflow: hidden;text-align: left;background-color: #f0f8ff;}#sk-container-id-8 div.sk-toggleable__content pre {margin: 0.2em;color: black;border-radius: 0.25em;background-color: #f0f8ff;}#sk-container-id-8 input.sk-toggleable__control:checked~div.sk-toggleable__content {max-height: 200px;max-width: 100%;overflow: auto;}#sk-container-id-8 input.sk-toggleable__control:checked~label.sk-toggleable__label-arrow:before {content: \"▾\";}#sk-container-id-8 div.sk-estimator input.sk-toggleable__control:checked~label.sk-toggleable__label {background-color: #d4ebff;}#sk-container-id-8 div.sk-label input.sk-toggleable__control:checked~label.sk-toggleable__label {background-color: #d4ebff;}#sk-container-id-8 input.sk-hidden--visually {border: 0;clip: rect(1px 1px 1px 1px);clip: rect(1px, 1px, 1px, 1px);height: 1px;margin: -1px;overflow: hidden;padding: 0;position: absolute;width: 1px;}#sk-container-id-8 div.sk-estimator {font-family: monospace;background-color: #f0f8ff;border: 1px dotted black;border-radius: 0.25em;box-sizing: border-box;margin-bottom: 0.5em;}#sk-container-id-8 div.sk-estimator:hover {background-color: #d4ebff;}#sk-container-id-8 div.sk-parallel-item::after {content: \"\";width: 100%;border-bottom: 1px solid gray;flex-grow: 1;}#sk-container-id-8 div.sk-label:hover label.sk-toggleable__label {background-color: #d4ebff;}#sk-container-id-8 div.sk-serial::before {content: \"\";position: absolute;border-left: 1px solid gray;box-sizing: border-box;top: 0;bottom: 0;left: 50%;z-index: 0;}#sk-container-id-8 div.sk-serial {display: flex;flex-direction: column;align-items: center;background-color: white;padding-right: 0.2em;padding-left: 0.2em;position: relative;}#sk-container-id-8 div.sk-item {position: relative;z-index: 1;}#sk-container-id-8 div.sk-parallel {display: flex;align-items: stretch;justify-content: center;background-color: white;position: relative;}#sk-container-id-8 div.sk-item::before, #sk-container-id-8 div.sk-parallel-item::before {content: \"\";position: absolute;border-left: 1px solid gray;box-sizing: border-box;top: 0;bottom: 0;left: 50%;z-index: -1;}#sk-container-id-8 div.sk-parallel-item {display: flex;flex-direction: column;z-index: 1;position: relative;background-color: white;}#sk-container-id-8 div.sk-parallel-item:first-child::after {align-self: flex-end;width: 50%;}#sk-container-id-8 div.sk-parallel-item:last-child::after {align-self: flex-start;width: 50%;}#sk-container-id-8 div.sk-parallel-item:only-child::after {width: 0;}#sk-container-id-8 div.sk-dashed-wrapped {border: 1px dashed gray;margin: 0 0.4em 0.5em 0.4em;box-sizing: border-box;padding-bottom: 0.4em;background-color: white;}#sk-container-id-8 div.sk-label label {font-family: monospace;font-weight: bold;display: inline-block;line-height: 1.2em;}#sk-container-id-8 div.sk-label-container {text-align: center;}#sk-container-id-8 div.sk-container {/* jupyter's `normalize.less` sets `[hidden] { display: none; }` but bootstrap.min.css set `[hidden] { display: none !important; }` so we also need the `!important` here to be able to override the default hidden behavior on the sphinx rendered scikit-learn.org. See: https://github.com/scikit-learn/scikit-learn/issues/21755 */display: inline-block !important;position: relative;}#sk-container-id-8 div.sk-text-repr-fallback {display: none;}</style><div id=\"sk-container-id-8\" class=\"sk-top-container\"><div class=\"sk-text-repr-fallback\"><pre>GridSearchCV(cv=TimeSeriesSplit(gap=0, max_train_size=None, n_splits=5, test_size=None),\n",
              "             estimator=RandomForestClassifier(), n_jobs=-1,\n",
              "             param_grid={&#x27;ccp_alpha&#x27;: [0, 0.01, 0.1, 1, 10],\n",
              "                         &#x27;max_depth&#x27;: [1, 2, 3],\n",
              "                         &#x27;max_features&#x27;: [&#x27;sqrt&#x27;, &#x27;log2&#x27;, None],\n",
              "                         &#x27;min_samples_split&#x27;: [2, 5, 10]},\n",
              "             scoring=&#x27;accuracy&#x27;)</pre><b>In a Jupyter environment, please rerun this cell to show the HTML representation or trust the notebook. <br />On GitHub, the HTML representation is unable to render, please try loading this page with nbviewer.org.</b></div><div class=\"sk-container\" hidden><div class=\"sk-item sk-dashed-wrapped\"><div class=\"sk-label-container\"><div class=\"sk-label sk-toggleable\"><input class=\"sk-toggleable__control sk-hidden--visually\" id=\"sk-estimator-id-16\" type=\"checkbox\" ><label for=\"sk-estimator-id-16\" class=\"sk-toggleable__label sk-toggleable__label-arrow\">GridSearchCV</label><div class=\"sk-toggleable__content\"><pre>GridSearchCV(cv=TimeSeriesSplit(gap=0, max_train_size=None, n_splits=5, test_size=None),\n",
              "             estimator=RandomForestClassifier(), n_jobs=-1,\n",
              "             param_grid={&#x27;ccp_alpha&#x27;: [0, 0.01, 0.1, 1, 10],\n",
              "                         &#x27;max_depth&#x27;: [1, 2, 3],\n",
              "                         &#x27;max_features&#x27;: [&#x27;sqrt&#x27;, &#x27;log2&#x27;, None],\n",
              "                         &#x27;min_samples_split&#x27;: [2, 5, 10]},\n",
              "             scoring=&#x27;accuracy&#x27;)</pre></div></div></div><div class=\"sk-parallel\"><div class=\"sk-parallel-item\"><div class=\"sk-item\"><div class=\"sk-label-container\"><div class=\"sk-label sk-toggleable\"><input class=\"sk-toggleable__control sk-hidden--visually\" id=\"sk-estimator-id-17\" type=\"checkbox\" ><label for=\"sk-estimator-id-17\" class=\"sk-toggleable__label sk-toggleable__label-arrow\">estimator: RandomForestClassifier</label><div class=\"sk-toggleable__content\"><pre>RandomForestClassifier()</pre></div></div></div><div class=\"sk-serial\"><div class=\"sk-item\"><div class=\"sk-estimator sk-toggleable\"><input class=\"sk-toggleable__control sk-hidden--visually\" id=\"sk-estimator-id-18\" type=\"checkbox\" ><label for=\"sk-estimator-id-18\" class=\"sk-toggleable__label sk-toggleable__label-arrow\">RandomForestClassifier</label><div class=\"sk-toggleable__content\"><pre>RandomForestClassifier()</pre></div></div></div></div></div></div></div></div></div></div>"
            ]
          },
          "metadata": {},
          "execution_count": 52
        }
      ],
      "source": [
        "rf = RandomForestClassifier()\n",
        "param_search = {'max_depth': [1,2,3],\n",
        "                'max_features': ['sqrt','log2',None],\n",
        "                'min_samples_split': [2,5,10],\n",
        "                'ccp_alpha': [0,0.01,0.1,1,10]}\n",
        "\n",
        "rf_gsearch = GridSearchCV(estimator=rf, cv=ts_cr_val, param_grid=param_search,scoring='accuracy',n_jobs=-1)\n",
        "rf_gsearch.fit(X_train_scaled, y_train)"
      ]
    },
    {
      "cell_type": "code",
      "execution_count": null,
      "metadata": {
        "colab": {
          "base_uri": "https://localhost:8080/",
          "height": 92
        },
        "id": "mEKFoY9coNYk",
        "outputId": "d722a0a9-3429-4d1f-ebbf-92d0586e36e1"
      },
      "outputs": [
        {
          "output_type": "execute_result",
          "data": {
            "text/plain": [
              "RandomForestClassifier(ccp_alpha=0, max_depth=1, max_features='log2',\n",
              "                       min_samples_split=10)"
            ],
            "text/html": [
              "<style>#sk-container-id-9 {color: black;background-color: white;}#sk-container-id-9 pre{padding: 0;}#sk-container-id-9 div.sk-toggleable {background-color: white;}#sk-container-id-9 label.sk-toggleable__label {cursor: pointer;display: block;width: 100%;margin-bottom: 0;padding: 0.3em;box-sizing: border-box;text-align: center;}#sk-container-id-9 label.sk-toggleable__label-arrow:before {content: \"▸\";float: left;margin-right: 0.25em;color: #696969;}#sk-container-id-9 label.sk-toggleable__label-arrow:hover:before {color: black;}#sk-container-id-9 div.sk-estimator:hover label.sk-toggleable__label-arrow:before {color: black;}#sk-container-id-9 div.sk-toggleable__content {max-height: 0;max-width: 0;overflow: hidden;text-align: left;background-color: #f0f8ff;}#sk-container-id-9 div.sk-toggleable__content pre {margin: 0.2em;color: black;border-radius: 0.25em;background-color: #f0f8ff;}#sk-container-id-9 input.sk-toggleable__control:checked~div.sk-toggleable__content {max-height: 200px;max-width: 100%;overflow: auto;}#sk-container-id-9 input.sk-toggleable__control:checked~label.sk-toggleable__label-arrow:before {content: \"▾\";}#sk-container-id-9 div.sk-estimator input.sk-toggleable__control:checked~label.sk-toggleable__label {background-color: #d4ebff;}#sk-container-id-9 div.sk-label input.sk-toggleable__control:checked~label.sk-toggleable__label {background-color: #d4ebff;}#sk-container-id-9 input.sk-hidden--visually {border: 0;clip: rect(1px 1px 1px 1px);clip: rect(1px, 1px, 1px, 1px);height: 1px;margin: -1px;overflow: hidden;padding: 0;position: absolute;width: 1px;}#sk-container-id-9 div.sk-estimator {font-family: monospace;background-color: #f0f8ff;border: 1px dotted black;border-radius: 0.25em;box-sizing: border-box;margin-bottom: 0.5em;}#sk-container-id-9 div.sk-estimator:hover {background-color: #d4ebff;}#sk-container-id-9 div.sk-parallel-item::after {content: \"\";width: 100%;border-bottom: 1px solid gray;flex-grow: 1;}#sk-container-id-9 div.sk-label:hover label.sk-toggleable__label {background-color: #d4ebff;}#sk-container-id-9 div.sk-serial::before {content: \"\";position: absolute;border-left: 1px solid gray;box-sizing: border-box;top: 0;bottom: 0;left: 50%;z-index: 0;}#sk-container-id-9 div.sk-serial {display: flex;flex-direction: column;align-items: center;background-color: white;padding-right: 0.2em;padding-left: 0.2em;position: relative;}#sk-container-id-9 div.sk-item {position: relative;z-index: 1;}#sk-container-id-9 div.sk-parallel {display: flex;align-items: stretch;justify-content: center;background-color: white;position: relative;}#sk-container-id-9 div.sk-item::before, #sk-container-id-9 div.sk-parallel-item::before {content: \"\";position: absolute;border-left: 1px solid gray;box-sizing: border-box;top: 0;bottom: 0;left: 50%;z-index: -1;}#sk-container-id-9 div.sk-parallel-item {display: flex;flex-direction: column;z-index: 1;position: relative;background-color: white;}#sk-container-id-9 div.sk-parallel-item:first-child::after {align-self: flex-end;width: 50%;}#sk-container-id-9 div.sk-parallel-item:last-child::after {align-self: flex-start;width: 50%;}#sk-container-id-9 div.sk-parallel-item:only-child::after {width: 0;}#sk-container-id-9 div.sk-dashed-wrapped {border: 1px dashed gray;margin: 0 0.4em 0.5em 0.4em;box-sizing: border-box;padding-bottom: 0.4em;background-color: white;}#sk-container-id-9 div.sk-label label {font-family: monospace;font-weight: bold;display: inline-block;line-height: 1.2em;}#sk-container-id-9 div.sk-label-container {text-align: center;}#sk-container-id-9 div.sk-container {/* jupyter's `normalize.less` sets `[hidden] { display: none; }` but bootstrap.min.css set `[hidden] { display: none !important; }` so we also need the `!important` here to be able to override the default hidden behavior on the sphinx rendered scikit-learn.org. See: https://github.com/scikit-learn/scikit-learn/issues/21755 */display: inline-block !important;position: relative;}#sk-container-id-9 div.sk-text-repr-fallback {display: none;}</style><div id=\"sk-container-id-9\" class=\"sk-top-container\"><div class=\"sk-text-repr-fallback\"><pre>RandomForestClassifier(ccp_alpha=0, max_depth=1, max_features=&#x27;log2&#x27;,\n",
              "                       min_samples_split=10)</pre><b>In a Jupyter environment, please rerun this cell to show the HTML representation or trust the notebook. <br />On GitHub, the HTML representation is unable to render, please try loading this page with nbviewer.org.</b></div><div class=\"sk-container\" hidden><div class=\"sk-item\"><div class=\"sk-estimator sk-toggleable\"><input class=\"sk-toggleable__control sk-hidden--visually\" id=\"sk-estimator-id-19\" type=\"checkbox\" checked><label for=\"sk-estimator-id-19\" class=\"sk-toggleable__label sk-toggleable__label-arrow\">RandomForestClassifier</label><div class=\"sk-toggleable__content\"><pre>RandomForestClassifier(ccp_alpha=0, max_depth=1, max_features=&#x27;log2&#x27;,\n",
              "                       min_samples_split=10)</pre></div></div></div></div></div>"
            ]
          },
          "metadata": {},
          "execution_count": 53
        }
      ],
      "source": [
        "rf_gsearch.best_estimator_"
      ]
    },
    {
      "cell_type": "code",
      "execution_count": null,
      "metadata": {
        "colab": {
          "base_uri": "https://localhost:8080/"
        },
        "id": "W34HSN9Fon95",
        "outputId": "e5714e7a-c795-4c4d-cf3a-2ecac1ad1dea"
      },
      "outputs": [
        {
          "output_type": "stream",
          "name": "stdout",
          "text": [
            "The Training Accuracy is: 0.5793510324483776 \n",
            "\n",
            "The Test Accuracy is: 0.5845942228335625\n"
          ]
        }
      ],
      "source": [
        "rf_predictions, rf_train_acc, rf_test_acc = make_predictions(rf_gsearch.best_estimator_)"
      ]
    },
    {
      "cell_type": "code",
      "execution_count": null,
      "metadata": {
        "colab": {
          "base_uri": "https://localhost:8080/",
          "height": 472
        },
        "id": "8YWy4NvBo5r4",
        "outputId": "15d44788-fa82-44f1-fdbe-1aa39f311857"
      },
      "outputs": [
        {
          "output_type": "display_data",
          "data": {
            "text/plain": [
              "<Figure size 640x480 with 2 Axes>"
            ],
            "image/png": "[encoded data removed]"
          },
          "metadata": {}
        }
      ],
      "source": [
        "plot_comparison(rf_predictions, y_test,'Random Forest Classifier')"
      ]
    },
    {
      "cell_type": "markdown",
      "metadata": {
        "id": "tVWC4W2mjZX9"
      },
      "source": [
        "### 7. Gradient Boosting"
      ]
    },
    {
      "cell_type": "code",
      "execution_count": null,
      "metadata": {
        "colab": {
          "base_uri": "https://localhost:8080/",
          "height": 118
        },
        "id": "QkG_PkYsi7Df",
        "outputId": "04b3b435-b5f9-4dd9-daf8-4f457e8b0699"
      },
      "outputs": [
        {
          "output_type": "execute_result",
          "data": {
            "text/plain": [
              "GridSearchCV(cv=TimeSeriesSplit(gap=0, max_train_size=None, n_splits=5, test_size=None),\n",
              "             estimator=GradientBoostingClassifier(), n_jobs=-1,\n",
              "             param_grid={'ccp_alpha': [0, 0.01, 0.1, 1, 10],\n",
              "                         'learning_rate': [0.001, 0.01, 0.1],\n",
              "                         'max_depth': [2, 6, 10],\n",
              "                         'max_features': ['sqrt', 'log2', None],\n",
              "                         'min_samples_split': [5, 10, 20]},\n",
              "             scoring='accuracy')"
            ],
            "text/html": [
              "<style>#sk-container-id-10 {color: black;background-color: white;}#sk-container-id-10 pre{padding: 0;}#sk-container-id-10 div.sk-toggleable {background-color: white;}#sk-container-id-10 label.sk-toggleable__label {cursor: pointer;display: block;width: 100%;margin-bottom: 0;padding: 0.3em;box-sizing: border-box;text-align: center;}#sk-container-id-10 label.sk-toggleable__label-arrow:before {content: \"▸\";float: left;margin-right: 0.25em;color: #696969;}#sk-container-id-10 label.sk-toggleable__label-arrow:hover:before {color: black;}#sk-container-id-10 div.sk-estimator:hover label.sk-toggleable__label-arrow:before {color: black;}#sk-container-id-10 div.sk-toggleable__content {max-height: 0;max-width: 0;overflow: hidden;text-align: left;background-color: #f0f8ff;}#sk-container-id-10 div.sk-toggleable__content pre {margin: 0.2em;color: black;border-radius: 0.25em;background-color: #f0f8ff;}#sk-container-id-10 input.sk-toggleable__control:checked~div.sk-toggleable__content {max-height: 200px;max-width: 100%;overflow: auto;}#sk-container-id-10 input.sk-toggleable__control:checked~label.sk-toggleable__label-arrow:before {content: \"▾\";}#sk-container-id-10 div.sk-estimator input.sk-toggleable__control:checked~label.sk-toggleable__label {background-color: #d4ebff;}#sk-container-id-10 div.sk-label input.sk-toggleable__control:checked~label.sk-toggleable__label {background-color: #d4ebff;}#sk-container-id-10 input.sk-hidden--visually {border: 0;clip: rect(1px 1px 1px 1px);clip: rect(1px, 1px, 1px, 1px);height: 1px;margin: -1px;overflow: hidden;padding: 0;position: absolute;width: 1px;}#sk-container-id-10 div.sk-estimator {font-family: monospace;background-color: #f0f8ff;border: 1px dotted black;border-radius: 0.25em;box-sizing: border-box;margin-bottom: 0.5em;}#sk-container-id-10 div.sk-estimator:hover {background-color: #d4ebff;}#sk-container-id-10 div.sk-parallel-item::after {content: \"\";width: 100%;border-bottom: 1px solid gray;flex-grow: 1;}#sk-container-id-10 div.sk-label:hover label.sk-toggleable__label {background-color: #d4ebff;}#sk-container-id-10 div.sk-serial::before {content: \"\";position: absolute;border-left: 1px solid gray;box-sizing: border-box;top: 0;bottom: 0;left: 50%;z-index: 0;}#sk-container-id-10 div.sk-serial {display: flex;flex-direction: column;align-items: center;background-color: white;padding-right: 0.2em;padding-left: 0.2em;position: relative;}#sk-container-id-10 div.sk-item {position: relative;z-index: 1;}#sk-container-id-10 div.sk-parallel {display: flex;align-items: stretch;justify-content: center;background-color: white;position: relative;}#sk-container-id-10 div.sk-item::before, #sk-container-id-10 div.sk-parallel-item::before {content: \"\";position: absolute;border-left: 1px solid gray;box-sizing: border-box;top: 0;bottom: 0;left: 50%;z-index: -1;}#sk-container-id-10 div.sk-parallel-item {display: flex;flex-direction: column;z-index: 1;position: relative;background-color: white;}#sk-container-id-10 div.sk-parallel-item:first-child::after {align-self: flex-end;width: 50%;}#sk-container-id-10 div.sk-parallel-item:last-child::after {align-self: flex-start;width: 50%;}#sk-container-id-10 div.sk-parallel-item:only-child::after {width: 0;}#sk-container-id-10 div.sk-dashed-wrapped {border: 1px dashed gray;margin: 0 0.4em 0.5em 0.4em;box-sizing: border-box;padding-bottom: 0.4em;background-color: white;}#sk-container-id-10 div.sk-label label {font-family: monospace;font-weight: bold;display: inline-block;line-height: 1.2em;}#sk-container-id-10 div.sk-label-container {text-align: center;}#sk-container-id-10 div.sk-container {/* jupyter's `normalize.less` sets `[hidden] { display: none; }` but bootstrap.min.css set `[hidden] { display: none !important; }` so we also need the `!important` here to be able to override the default hidden behavior on the sphinx rendered scikit-learn.org. See: https://github.com/scikit-learn/scikit-learn/issues/21755 */display: inline-block !important;position: relative;}#sk-container-id-10 div.sk-text-repr-fallback {display: none;}</style><div id=\"sk-container-id-10\" class=\"sk-top-container\"><div class=\"sk-text-repr-fallback\"><pre>GridSearchCV(cv=TimeSeriesSplit(gap=0, max_train_size=None, n_splits=5, test_size=None),\n",
              "             estimator=GradientBoostingClassifier(), n_jobs=-1,\n",
              "             param_grid={&#x27;ccp_alpha&#x27;: [0, 0.01, 0.1, 1, 10],\n",
              "                         &#x27;learning_rate&#x27;: [0.001, 0.01, 0.1],\n",
              "                         &#x27;max_depth&#x27;: [2, 6, 10],\n",
              "                         &#x27;max_features&#x27;: [&#x27;sqrt&#x27;, &#x27;log2&#x27;, None],\n",
              "                         &#x27;min_samples_split&#x27;: [5, 10, 20]},\n",
              "             scoring=&#x27;accuracy&#x27;)</pre><b>In a Jupyter environment, please rerun this cell to show the HTML representation or trust the notebook. <br />On GitHub, the HTML representation is unable to render, please try loading this page with nbviewer.org.</b></div><div class=\"sk-container\" hidden><div class=\"sk-item sk-dashed-wrapped\"><div class=\"sk-label-container\"><div class=\"sk-label sk-toggleable\"><input class=\"sk-toggleable__control sk-hidden--visually\" id=\"sk-estimator-id-20\" type=\"checkbox\" ><label for=\"sk-estimator-id-20\" class=\"sk-toggleable__label sk-toggleable__label-arrow\">GridSearchCV</label><div class=\"sk-toggleable__content\"><pre>GridSearchCV(cv=TimeSeriesSplit(gap=0, max_train_size=None, n_splits=5, test_size=None),\n",
              "             estimator=GradientBoostingClassifier(), n_jobs=-1,\n",
              "             param_grid={&#x27;ccp_alpha&#x27;: [0, 0.01, 0.1, 1, 10],\n",
              "                         &#x27;learning_rate&#x27;: [0.001, 0.01, 0.1],\n",
              "                         &#x27;max_depth&#x27;: [2, 6, 10],\n",
              "                         &#x27;max_features&#x27;: [&#x27;sqrt&#x27;, &#x27;log2&#x27;, None],\n",
              "                         &#x27;min_samples_split&#x27;: [5, 10, 20]},\n",
              "             scoring=&#x27;accuracy&#x27;)</pre></div></div></div><div class=\"sk-parallel\"><div class=\"sk-parallel-item\"><div class=\"sk-item\"><div class=\"sk-label-container\"><div class=\"sk-label sk-toggleable\"><input class=\"sk-toggleable__control sk-hidden--visually\" id=\"sk-estimator-id-21\" type=\"checkbox\" ><label for=\"sk-estimator-id-21\" class=\"sk-toggleable__label sk-toggleable__label-arrow\">estimator: GradientBoostingClassifier</label><div class=\"sk-toggleable__content\"><pre>GradientBoostingClassifier()</pre></div></div></div><div class=\"sk-serial\"><div class=\"sk-item\"><div class=\"sk-estimator sk-toggleable\"><input class=\"sk-toggleable__control sk-hidden--visually\" id=\"sk-estimator-id-22\" type=\"checkbox\" ><label for=\"sk-estimator-id-22\" class=\"sk-toggleable__label sk-toggleable__label-arrow\">GradientBoostingClassifier</label><div class=\"sk-toggleable__content\"><pre>GradientBoostingClassifier()</pre></div></div></div></div></div></div></div></div></div></div>"
            ]
          },
          "metadata": {},
          "execution_count": 56
        }
      ],
      "source": [
        "gbt = GradientBoostingClassifier()\n",
        "param_search = {'learning_rate':[0.001,0.01,0.1],\n",
        "                'max_depth':[2,6,10],\n",
        "                'max_features': ['sqrt','log2',None],\n",
        "                'min_samples_split': [5,10,20],\n",
        "                'ccp_alpha': [0,0.01,0.1,1,10]}\n",
        "\n",
        "gbt_gsearch = GridSearchCV(estimator=gbt, cv=ts_cr_val, param_grid=param_search,scoring='accuracy',n_jobs=-1)\n",
        "gbt_gsearch.fit(X_train_scaled, y_train)"
      ]
    },
    {
      "cell_type": "code",
      "execution_count": null,
      "metadata": {
        "colab": {
          "base_uri": "https://localhost:8080/",
          "height": 75
        },
        "id": "IpgRhUcRjke6",
        "outputId": "6d614528-1bc6-4db0-d8ab-1818c4846f33"
      },
      "outputs": [
        {
          "output_type": "execute_result",
          "data": {
            "text/plain": [
              "GradientBoostingClassifier(ccp_alpha=0, max_depth=10, min_samples_split=5)"
            ],
            "text/html": [
              "<style>#sk-container-id-11 {color: black;background-color: white;}#sk-container-id-11 pre{padding: 0;}#sk-container-id-11 div.sk-toggleable {background-color: white;}#sk-container-id-11 label.sk-toggleable__label {cursor: pointer;display: block;width: 100%;margin-bottom: 0;padding: 0.3em;box-sizing: border-box;text-align: center;}#sk-container-id-11 label.sk-toggleable__label-arrow:before {content: \"▸\";float: left;margin-right: 0.25em;color: #696969;}#sk-container-id-11 label.sk-toggleable__label-arrow:hover:before {color: black;}#sk-container-id-11 div.sk-estimator:hover label.sk-toggleable__label-arrow:before {color: black;}#sk-container-id-11 div.sk-toggleable__content {max-height: 0;max-width: 0;overflow: hidden;text-align: left;background-color: #f0f8ff;}#sk-container-id-11 div.sk-toggleable__content pre {margin: 0.2em;color: black;border-radius: 0.25em;background-color: #f0f8ff;}#sk-container-id-11 input.sk-toggleable__control:checked~div.sk-toggleable__content {max-height: 200px;max-width: 100%;overflow: auto;}#sk-container-id-11 input.sk-toggleable__control:checked~label.sk-toggleable__label-arrow:before {content: \"▾\";}#sk-container-id-11 div.sk-estimator input.sk-toggleable__control:checked~label.sk-toggleable__label {background-color: #d4ebff;}#sk-container-id-11 div.sk-label input.sk-toggleable__control:checked~label.sk-toggleable__label {background-color: #d4ebff;}#sk-container-id-11 input.sk-hidden--visually {border: 0;clip: rect(1px 1px 1px 1px);clip: rect(1px, 1px, 1px, 1px);height: 1px;margin: -1px;overflow: hidden;padding: 0;position: absolute;width: 1px;}#sk-container-id-11 div.sk-estimator {font-family: monospace;background-color: #f0f8ff;border: 1px dotted black;border-radius: 0.25em;box-sizing: border-box;margin-bottom: 0.5em;}#sk-container-id-11 div.sk-estimator:hover {background-color: #d4ebff;}#sk-container-id-11 div.sk-parallel-item::after {content: \"\";width: 100%;border-bottom: 1px solid gray;flex-grow: 1;}#sk-container-id-11 div.sk-label:hover label.sk-toggleable__label {background-color: #d4ebff;}#sk-container-id-11 div.sk-serial::before {content: \"\";position: absolute;border-left: 1px solid gray;box-sizing: border-box;top: 0;bottom: 0;left: 50%;z-index: 0;}#sk-container-id-11 div.sk-serial {display: flex;flex-direction: column;align-items: center;background-color: white;padding-right: 0.2em;padding-left: 0.2em;position: relative;}#sk-container-id-11 div.sk-item {position: relative;z-index: 1;}#sk-container-id-11 div.sk-parallel {display: flex;align-items: stretch;justify-content: center;background-color: white;position: relative;}#sk-container-id-11 div.sk-item::before, #sk-container-id-11 div.sk-parallel-item::before {content: \"\";position: absolute;border-left: 1px solid gray;box-sizing: border-box;top: 0;bottom: 0;left: 50%;z-index: -1;}#sk-container-id-11 div.sk-parallel-item {display: flex;flex-direction: column;z-index: 1;position: relative;background-color: white;}#sk-container-id-11 div.sk-parallel-item:first-child::after {align-self: flex-end;width: 50%;}#sk-container-id-11 div.sk-parallel-item:last-child::after {align-self: flex-start;width: 50%;}#sk-container-id-11 div.sk-parallel-item:only-child::after {width: 0;}#sk-container-id-11 div.sk-dashed-wrapped {border: 1px dashed gray;margin: 0 0.4em 0.5em 0.4em;box-sizing: border-box;padding-bottom: 0.4em;background-color: white;}#sk-container-id-11 div.sk-label label {font-family: monospace;font-weight: bold;display: inline-block;line-height: 1.2em;}#sk-container-id-11 div.sk-label-container {text-align: center;}#sk-container-id-11 div.sk-container {/* jupyter's `normalize.less` sets `[hidden] { display: none; }` but bootstrap.min.css set `[hidden] { display: none !important; }` so we also need the `!important` here to be able to override the default hidden behavior on the sphinx rendered scikit-learn.org. See: https://github.com/scikit-learn/scikit-learn/issues/21755 */display: inline-block !important;position: relative;}#sk-container-id-11 div.sk-text-repr-fallback {display: none;}</style><div id=\"sk-container-id-11\" class=\"sk-top-container\"><div class=\"sk-text-repr-fallback\"><pre>GradientBoostingClassifier(ccp_alpha=0, max_depth=10, min_samples_split=5)</pre><b>In a Jupyter environment, please rerun this cell to show the HTML representation or trust the notebook. <br />On GitHub, the HTML representation is unable to render, please try loading this page with nbviewer.org.</b></div><div class=\"sk-container\" hidden><div class=\"sk-item\"><div class=\"sk-estimator sk-toggleable\"><input class=\"sk-toggleable__control sk-hidden--visually\" id=\"sk-estimator-id-23\" type=\"checkbox\" checked><label for=\"sk-estimator-id-23\" class=\"sk-toggleable__label sk-toggleable__label-arrow\">GradientBoostingClassifier</label><div class=\"sk-toggleable__content\"><pre>GradientBoostingClassifier(ccp_alpha=0, max_depth=10, min_samples_split=5)</pre></div></div></div></div></div>"
            ]
          },
          "metadata": {},
          "execution_count": 57
        }
      ],
      "source": [
        "gbt_gsearch.best_estimator_"
      ]
    },
    {
      "cell_type": "code",
      "execution_count": null,
      "metadata": {
        "colab": {
          "base_uri": "https://localhost:8080/"
        },
        "id": "aLA4ljtajke7",
        "outputId": "a3a74cbd-14c2-45c6-fbb1-d59a7ebd8f84"
      },
      "outputs": [
        {
          "output_type": "stream",
          "name": "stdout",
          "text": [
            "The Training Accuracy is: 1.0 \n",
            "\n",
            "The Test Accuracy is: 0.41815680880330125\n"
          ]
        }
      ],
      "source": [
        "gbt_predictions, gbt_train_acc, gbt_test_acc = make_predictions(gbt_gsearch.best_estimator_)"
      ]
    },
    {
      "cell_type": "code",
      "execution_count": null,
      "metadata": {
        "colab": {
          "base_uri": "https://localhost:8080/",
          "height": 472
        },
        "id": "Qm_4yPVOjke7",
        "outputId": "2d3c4837-d202-47b9-a875-4e3b906e13d8"
      },
      "outputs": [
        {
          "output_type": "display_data",
          "data": {
            "text/plain": [
              "<Figure size 640x480 with 2 Axes>"
            ],
            "image/png": "[encoded data removed]"
          },
          "metadata": {}
        }
      ],
      "source": [
        "plot_comparison(gbt_predictions, y_test,'Gradient Boosting Classifier')"
      ]
    },
    {
      "cell_type": "code",
      "execution_count": null,
      "metadata": {
        "colab": {
          "base_uri": "https://localhost:8080/",
          "height": 287
        },
        "id": "j7c_Kfqs1iqT",
        "outputId": "d166ea03-84d5-4c7e-f0cc-171f078b77a9"
      },
      "outputs": [
        {
          "output_type": "stream",
          "name": "stdout",
          "text": [
            "Brent Oil Price - Binary\n"
          ]
        },
        {
          "output_type": "execute_result",
          "data": {
            "text/plain": [
              "                     Training Accuracy  Test Accuracy\n",
              "Dummy                        50.265487      57.083906\n",
              "Logistic Regression          56.755162      58.872077\n",
              "K-nearest-neighbors         100.000000      49.518569\n",
              "Naive Bayes                  55.516224      57.771664\n",
              "Decision Tree                62.064897      50.756534\n",
              "Random Forest                57.935103      58.459422\n",
              "Gradient Boosting           100.000000      41.815681"
            ],
            "text/html": [
              "\n",
              "  <div id=\"df-0e72aea2-35c1-491c-90d6-59d0bd9c0f06\">\n",
              "    <div class=\"colab-df-container\">\n",
              "      <div>\n",
              "<style scoped>\n",
              "    .dataframe tbody tr th:only-of-type {\n",
              "        vertical-align: middle;\n",
              "    }\n",
              "\n",
              "    .dataframe tbody tr th {\n",
              "        vertical-align: top;\n",
              "    }\n",
              "\n",
              "    .dataframe thead th {\n",
              "        text-align: right;\n",
              "    }\n",
              "</style>\n",
              "<table border=\"1\" class=\"dataframe\">\n",
              "  <thead>\n",
              "    <tr style=\"text-align: right;\">\n",
              "      <th></th>\n",
              "      <th>Training Accuracy</th>\n",
              "      <th>Test Accuracy</th>\n",
              "    </tr>\n",
              "  </thead>\n",
              "  <tbody>\n",
              "    <tr>\n",
              "      <th>Dummy</th>\n",
              "      <td>50.265487</td>\n",
              "      <td>57.083906</td>\n",
              "    </tr>\n",
              "    <tr>\n",
              "      <th>Logistic Regression</th>\n",
              "      <td>56.755162</td>\n",
              "      <td>58.872077</td>\n",
              "    </tr>\n",
              "    <tr>\n",
              "      <th>K-nearest-neighbors</th>\n",
              "      <td>100.000000</td>\n",
              "      <td>49.518569</td>\n",
              "    </tr>\n",
              "    <tr>\n",
              "      <th>Naive Bayes</th>\n",
              "      <td>55.516224</td>\n",
              "      <td>57.771664</td>\n",
              "    </tr>\n",
              "    <tr>\n",
              "      <th>Decision Tree</th>\n",
              "      <td>62.064897</td>\n",
              "      <td>50.756534</td>\n",
              "    </tr>\n",
              "    <tr>\n",
              "      <th>Random Forest</th>\n",
              "      <td>57.935103</td>\n",
              "      <td>58.459422</td>\n",
              "    </tr>\n",
              "    <tr>\n",
              "      <th>Gradient Boosting</th>\n",
              "      <td>100.000000</td>\n",
              "      <td>41.815681</td>\n",
              "    </tr>\n",
              "  </tbody>\n",
              "</table>\n",
              "</div>\n",
              "      <button class=\"colab-df-convert\" onclick=\"convertToInteractive('df-0e72aea2-35c1-491c-90d6-59d0bd9c0f06')\"\n",
              "              title=\"Convert this dataframe to an interactive table.\"\n",
              "              style=\"display:none;\">\n",
              "        \n",
              "  <svg xmlns=\"http://www.w3.org/2000/svg\" height=\"24px\"viewBox=\"0 0 24 24\"\n",
              "       width=\"24px\">\n",
              "    <path d=\"M0 0h24v24H0V0z\" fill=\"none\"/>\n",
              "    <path d=\"M18.56 5.44l.94 2.06.94-2.06 2.06-.94-2.06-.94-.94-2.06-.94 2.06-2.06.94zm-11 1L8.5 8.5l.94-2.06 2.06-.94-2.06-.94L8.5 2.5l-.94 2.06-2.06.94zm10 10l.94 2.06.94-2.06 2.06-.94-2.06-.94-.94-2.06-.94 2.06-2.06.94z\"/><path d=\"M17.41 7.96l-1.37-1.37c-.4-.4-.92-.59-1.43-.59-.52 0-1.04.2-1.43.59L10.3 9.45l-7.72 7.72c-.78.78-.78 2.05 0 2.83L4 21.41c.39.39.9.59 1.41.59.51 0 1.02-.2 1.41-.59l7.78-7.78 2.81-2.81c.8-.78.8-2.07 0-2.86zM5.41 20L4 18.59l7.72-7.72 1.47 1.35L5.41 20z\"/>\n",
              "  </svg>\n",
              "      </button>\n",
              "      \n",
              "  <style>\n",
              "    .colab-df-container {\n",
              "      display:flex;\n",
              "      flex-wrap:wrap;\n",
              "      gap: 12px;\n",
              "    }\n",
              "\n",
              "    .colab-df-convert {\n",
              "      background-color: #E8F0FE;\n",
              "      border: none;\n",
              "      border-radius: 50%;\n",
              "      cursor: pointer;\n",
              "      display: none;\n",
              "      fill: #1967D2;\n",
              "      height: 32px;\n",
              "      padding: 0 0 0 0;\n",
              "      width: 32px;\n",
              "    }\n",
              "\n",
              "    .colab-df-convert:hover {\n",
              "      background-color: #E2EBFA;\n",
              "      box-shadow: 0px 1px 2px rgba(60, 64, 67, 0.3), 0px 1px 3px 1px rgba(60, 64, 67, 0.15);\n",
              "      fill: #174EA6;\n",
              "    }\n",
              "\n",
              "    [theme=dark] .colab-df-convert {\n",
              "      background-color: #3B4455;\n",
              "      fill: #D2E3FC;\n",
              "    }\n",
              "\n",
              "    [theme=dark] .colab-df-convert:hover {\n",
              "      background-color: #434B5C;\n",
              "      box-shadow: 0px 1px 3px 1px rgba(0, 0, 0, 0.15);\n",
              "      filter: drop-shadow(0px 1px 2px rgba(0, 0, 0, 0.3));\n",
              "      fill: #FFFFFF;\n",
              "    }\n",
              "  </style>\n",
              "\n",
              "      <script>\n",
              "        const buttonEl =\n",
              "          document.querySelector('#df-0e72aea2-35c1-491c-90d6-59d0bd9c0f06 button.colab-df-convert');\n",
              "        buttonEl.style.display =\n",
              "          google.colab.kernel.accessAllowed ? 'block' : 'none';\n",
              "\n",
              "        async function convertToInteractive(key) {\n",
              "          const element = document.querySelector('#df-0e72aea2-35c1-491c-90d6-59d0bd9c0f06');\n",
              "          const dataTable =\n",
              "            await google.colab.kernel.invokeFunction('convertToInteractive',\n",
              "                                                     [key], {});\n",
              "          if (!dataTable) return;\n",
              "\n",
              "          const docLinkHtml = 'Like what you see? Visit the ' +\n",
              "            '<a target=\"_blank\" href=https://colab.research.google.com/notebooks/data_table.ipynb>data table notebook</a>'\n",
              "            + ' to learn more about interactive tables.';\n",
              "          element.innerHTML = '';\n",
              "          dataTable['output_type'] = 'display_data';\n",
              "          await google.colab.output.renderOutput(dataTable, element);\n",
              "          const docLink = document.createElement('div');\n",
              "          docLink.innerHTML = docLinkHtml;\n",
              "          element.appendChild(docLink);\n",
              "        }\n",
              "      </script>\n",
              "    </div>\n",
              "  </div>\n",
              "  "
            ]
          },
          "metadata": {},
          "execution_count": 60
        }
      ],
      "source": [
        "print('Brent Oil Price - Binary')\n",
        "pd.DataFrame(\n",
        "    {\n",
        "     'Training Accuracy':[dm_train_acc,lr_train_acc,knn_train_acc,nb_train_acc,dt_train_acc,rf_train_acc,gbt_train_acc],\n",
        "     'Test Accuracy':[dm_test_acc,lr_test_acc,knn_test_acc,nb_test_acc,dt_test_acc,rf_test_acc,gbt_test_acc]\n",
        "    },\n",
        "    index = ['Dummy','Logistic Regression','K-nearest-neighbors','Naive Bayes','Decision Tree','Random Forest','Gradient Boosting']\n",
        ")*100"
      ]
    },
    {
      "cell_type": "markdown",
      "source": [
        "## Feature Importance"
      ],
      "metadata": {
        "id": "JO7j_rc5mRMr"
      }
    },
    {
      "cell_type": "code",
      "execution_count": null,
      "metadata": {
        "id": "QEALm_VxELvn",
        "colab": {
          "base_uri": "https://localhost:8080/",
          "height": 467
        },
        "outputId": "3e5cde3f-b1f3-47ee-df78-43c0dc8fe08d"
      },
      "outputs": [
        {
          "output_type": "execute_result",
          "data": {
            "text/plain": [
              "Text(0.5, 0, 'Feature Importance')"
            ]
          },
          "metadata": {},
          "execution_count": 62
        },
        {
          "output_type": "display_data",
          "data": {
            "text/plain": [
              "<Figure size 640x480 with 1 Axes>"
            ],
            "image/png": "[encoded data removed]"
          },
          "metadata": {}
        }
      ],
      "source": [
        "best_model = lr_gsearch.best_estimator_\n",
        "\n",
        "best_model.fit(X_train_scaled, y_train)\n",
        "\n",
        "importance = best_model.coef_[0]\n",
        "sort = abs(importance).argsort()[-15:]\n",
        "plt.barh(np.array(X_train.columns)[sort], importance[sort])\n",
        "plt.xlabel(\"Feature Importance\")\n",
        "\n",
        "# logit_features = pd.Series(logit.coef_.tolist()[0], index = list(dataframe.columns))\n",
        "# sorted_logit_features = logit_features.sort_values(ascending = False, key = abs)\n",
        "# sorted_logit_features[0:5]"
      ]
    }
  ],
  "metadata": {
    "colab": {
      "provenance": []
    },
    "kernelspec": {
      "display_name": "Python 3",
      "name": "python3"
    },
    "language_info": {
      "name": "python"
    }
  },
  "nbformat": 4,
  "nbformat_minor": 0
}